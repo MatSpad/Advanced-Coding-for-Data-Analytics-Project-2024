{
  "cells": [
    {
      "cell_type": "markdown",
      "metadata": {
        "colab_type": "text",
        "id": "view-in-github"
      },
      "source": [
        "<a href=\"https://colab.research.google.com/github/MatSpad/Advanced-Coding-for-Data-Analytics-Project-2024/blob/main/ACfDA_project.ipynb\" target=\"_parent\"><img src=\"https://colab.research.google.com/assets/colab-badge.svg\" alt=\"Open In Colab\"/></a>"
      ]
    },
    {
      "cell_type": "markdown",
      "metadata": {
        "id": "uwGDbQnLnRUr"
      },
      "source": [
        "# Advanced Coding for Data Analytics Project\n",
        "30/04/24\n",
        "### Group 1:\n",
        "- Federico De Marinis (267511)\n",
        "- Eleonora Di Mario (275551)\n",
        "- Matteo Spadaccia (277141)\n",
        "## Introduction\n",
        "TODO: Intro to the topic and aims of the project"
      ]
    },
    {
      "cell_type": "markdown",
      "metadata": {
        "id": "072aJmt3pMkY"
      },
      "source": [
        "## Part 0 - Preliminary code\n",
        "In this section, the contextual basis for the analysis is set."
      ]
    },
    {
      "cell_type": "markdown",
      "metadata": {
        "id": "oS9PYc4rqeQk"
      },
      "source": [
        "### 0.1 - Importing libraries and functions\n",
        "Some libraries and functions are imported to ease the specified following tasks."
      ]
    },
    {
      "cell_type": "code",
      "execution_count": 10,
      "metadata": {
        "colab": {
          "base_uri": "https://localhost:8080/"
        },
        "id": "Rhr12Fd5oaXj",
        "outputId": "96b5043f-86c7-4447-b6cc-5b8faef2fc90"
      },
      "outputs": [
        {
          "name": "stdout",
          "output_type": "stream",
          "text": [
            "Libraries and functions imported!\n"
          ]
        }
      ],
      "source": [
        "# [Code: 1]\n",
        "\n",
        "# Importing libraries               > Useful for:\n",
        "import os                           # managing directories\n",
        "import shutil                       # deleting directories\n",
        "import time                         # checking code run times\n",
        "from tqdm.auto import tqdm          # generating fancy progress bars\n",
        "import gzip                         # decompressing and reading .gz files\n",
        "import networkx as nx               # generating and analyzing graph objects\n",
        "import pandas as pd                 # managing dataframes\n",
        "import numpy as np                  # managing arrays\n",
        "import pickle                       # storing objects (e.g., NetworkX graphs) as binary files\n",
        "import matplotlib.pyplot as plt     # managing image-format visual representations\n",
        "import matplotlib.image as mpimg    # reading image-format files\n",
        "import random                       # random selections\n",
        "\n",
        "# Importing functions                               > Useful for:\n",
        "from Functions.section import section               # clearly depicting sections of output\n",
        "from Functions.mdgJaccard import mdgJaccard         # computing a Jaccard-styled similarity index between node couples in a NetworkX multiDiGraph\n",
        "from Functions.patientRand import patientRand       # generating a simulated medical patient profile\n",
        "from Functions.chatDOC import chatDOC#, visualizeDOC # analyzing an hypothetical patient situation (suffered symptoms and eventually past diagnoses); graphically visualizing the results\n",
        "\n",
        "print(\"Libraries and functions imported!\")"
      ]
    },
    {
      "cell_type": "markdown",
      "metadata": {
        "id": "1NlSTNrfu4IT"
      },
      "source": [
        "### 0.2 - Sript settings\n",
        "Some variables are settable to customize the specified script's behaviors."
      ]
    },
    {
      "cell_type": "code",
      "execution_count": 11,
      "metadata": {
        "colab": {
          "base_uri": "https://localhost:8080/"
        },
        "id": "PrpPj9kcoWtV",
        "outputId": "a3fc9093-034b-4c61-9eb4-0a3797cb4a2b"
      },
      "outputs": [
        {
          "name": "stdout",
          "output_type": "stream",
          "text": [
            "Script set!\n"
          ]
        }
      ],
      "source": [
        "# [Code: 2]\n",
        "\n",
        "# Script settings            > Usage:\n",
        "reloadRepository = False     # if True, the GitHub repository is loaded again even if already cloned\n",
        "rebuildGraph = False         # if True, the graph is built again from input data even if already available as saved object\n",
        "loadDisconnectedNodes = True # if True, when eventually rebuilding the graph, all the nodes are considered even if not partecipating in any edge\n",
        "overwriteSavings = True      # if True, saved files are overwrited by newly computed outputs\n",
        "generateImages = True        # if True, images are generated during code execution\n",
        "\n",
        "# Checking settings\n",
        "repositoryLoaded = os.getcwd()[-17:] == 'cloned-repository' # checks if the current working directory is the cloned repository itself\n",
        "if not rebuildGraph and not os.path.isfile('Outputs/Graph.pickle'):\n",
        "  rebuildGraph = True\n",
        "  print(\"No previously saved graph object found, the network will be constructed again from data.\")\n",
        "\n",
        "print(\"Script set!\")"
      ]
    },
    {
      "cell_type": "markdown",
      "metadata": {
        "id": "6cNlBgsbrv3Q"
      },
      "source": [
        "### 0.3 - Colab-GitHub interaction initialization\n",
        "Colab's working directory is set by loading the project's GitHub repository. If the latter has already been cloned and the reloadRepository variable [Code: 2 - Script settings] is switched to False, the working directory would not be updated."
      ]
    },
    {
      "cell_type": "code",
      "execution_count": 12,
      "metadata": {
        "colab": {
          "base_uri": "https://localhost:8080/"
        },
        "id": "5aNpni0nojea",
        "outputId": "33ce5ff0-a2e7-4ada-ec8d-1cf0ab4b6b04"
      },
      "outputs": [
        {
          "name": "stdout",
          "output_type": "stream",
          "text": [
            "Loading repository: ____________________________________________________________\n",
            "[WinError 2] Impossibile trovare il file specificato: 'cloned-repository'\n",
            "c:\\Users\\matte\\Desktop\\Advanced-Coding-for-Data-Analytics-Project-2024\n",
            "__________________________________________________________________________ DONE!\n",
            "\n",
            "\n"
          ]
        },
        {
          "name": "stderr",
          "output_type": "stream",
          "text": [
            "Cloning into 'cloned-repository'...\n",
            "warning: --local is ignored\n",
            "error: 24871 bytes of body are still expected\n",
            "fetch-pack: unexpected disconnect while reading sideband packet\n",
            "fatal: early EOF\n",
            "fatal: fetch-pack: invalid index-pack output\n",
            "c:\\Users\\matte\\AppData\\Local\\Programs\\Python\\Python311\\Lib\\site-packages\\IPython\\core\\magics\\osm.py:393: UserWarning: using bookmarks requires you to install the `pickleshare` library.\n",
            "  bkms = self.shell.db.get('bookmarks', {})\n"
          ]
        }
      ],
      "source": [
        "# [Code: 3]\n",
        "\n",
        "# Colab-GitHub interaction initialization\n",
        "if repositoryLoaded and reloadRepository: # if the repository is already loaded and to be updated, it is discarded\n",
        "  os.chdir('..')\n",
        "  shutil.rmtree('cloned-repository')\n",
        "  repositoryLoaded = False\n",
        "if not repositoryLoaded:                  # if the repository is to be loaded (or updated), it is cloned from GitHub\n",
        "  section(\"Loading repository:\")\n",
        "  ! git clone -l -s https://github.com/MatSpad/Advanced-Coding-for-Data-Analytics-Project-2024.git cloned-repository\n",
        "  %cd cloned-repository\n",
        "  section('done')\n",
        "else:\n",
        "  print(\"Using previously loaded repository!\")"
      ]
    },
    {
      "cell_type": "markdown",
      "metadata": {
        "id": "cTE0q3hBuz61"
      },
      "source": [
        "## Part 1 - Constructing the biomedical knowledge graph\n",
        "In this section, the nodes and edges data are imported and saved as a NetworkX directed multi-graph, on which specific analysis could be run afterwards."
      ]
    },
    {
      "cell_type": "markdown",
      "metadata": {
        "id": "gME0IK3ywHNz"
      },
      "source": [
        "### 1.1 - Building Dataframes from files\n",
        "The information contained in both the nodelist and edgelist files are loaded as separate Pandas dataframes."
      ]
    },
    {
      "cell_type": "code",
      "execution_count": 13,
      "metadata": {
        "colab": {
          "base_uri": "https://localhost:8080/",
          "height": 969
        },
        "id": "BwiqcxsQonYr",
        "outputId": "a5a01a46-7c02-4a88-d128-bae9a1008f0f"
      },
      "outputs": [
        {
          "name": "stdout",
          "output_type": "stream",
          "text": [
            "Loading nodes' info as dataframe: ______________________________________________\n"
          ]
        },
        {
          "data": {
            "text/html": [
              "<div>\n",
              "<style scoped>\n",
              "    .dataframe tbody tr th:only-of-type {\n",
              "        vertical-align: middle;\n",
              "    }\n",
              "\n",
              "    .dataframe tbody tr th {\n",
              "        vertical-align: top;\n",
              "    }\n",
              "\n",
              "    .dataframe thead th {\n",
              "        text-align: right;\n",
              "    }\n",
              "</style>\n",
              "<table border=\"1\" class=\"dataframe\">\n",
              "  <thead>\n",
              "    <tr style=\"text-align: right;\">\n",
              "      <th></th>\n",
              "      <th>id</th>\n",
              "      <th>name</th>\n",
              "      <th>kind</th>\n",
              "    </tr>\n",
              "  </thead>\n",
              "  <tbody>\n",
              "    <tr>\n",
              "      <th>0</th>\n",
              "      <td>Anatomy::UBERON:0000002</td>\n",
              "      <td>uterine cervix</td>\n",
              "      <td>Anatomy</td>\n",
              "    </tr>\n",
              "    <tr>\n",
              "      <th>1</th>\n",
              "      <td>Anatomy::UBERON:0000004</td>\n",
              "      <td>nose</td>\n",
              "      <td>Anatomy</td>\n",
              "    </tr>\n",
              "    <tr>\n",
              "      <th>2</th>\n",
              "      <td>Anatomy::UBERON:0000006</td>\n",
              "      <td>islet of Langerhans</td>\n",
              "      <td>Anatomy</td>\n",
              "    </tr>\n",
              "    <tr>\n",
              "      <th>3</th>\n",
              "      <td>Anatomy::UBERON:0000007</td>\n",
              "      <td>pituitary gland</td>\n",
              "      <td>Anatomy</td>\n",
              "    </tr>\n",
              "    <tr>\n",
              "      <th>4</th>\n",
              "      <td>Anatomy::UBERON:0000010</td>\n",
              "      <td>peripheral nervous system</td>\n",
              "      <td>Anatomy</td>\n",
              "    </tr>\n",
              "    <tr>\n",
              "      <th>...</th>\n",
              "      <td>...</td>\n",
              "      <td>...</td>\n",
              "      <td>...</td>\n",
              "    </tr>\n",
              "    <tr>\n",
              "      <th>47026</th>\n",
              "      <td>Symptom::D064250</td>\n",
              "      <td>Hypertriglyceridemic Waist</td>\n",
              "      <td>Symptom</td>\n",
              "    </tr>\n",
              "    <tr>\n",
              "      <th>47027</th>\n",
              "      <td>Symptom::D065634</td>\n",
              "      <td>Cerebrospinal Fluid Leak</td>\n",
              "      <td>Symptom</td>\n",
              "    </tr>\n",
              "    <tr>\n",
              "      <th>47028</th>\n",
              "      <td>Symptom::D065635</td>\n",
              "      <td>Benign Paroxysmal Positional Vertigo</td>\n",
              "      <td>Symptom</td>\n",
              "    </tr>\n",
              "    <tr>\n",
              "      <th>47029</th>\n",
              "      <td>Symptom::D065906</td>\n",
              "      <td>Hyperlactatemia</td>\n",
              "      <td>Symptom</td>\n",
              "    </tr>\n",
              "    <tr>\n",
              "      <th>47030</th>\n",
              "      <td>Symptom::D066190</td>\n",
              "      <td>Allesthesia</td>\n",
              "      <td>Symptom</td>\n",
              "    </tr>\n",
              "  </tbody>\n",
              "</table>\n",
              "<p>47031 rows × 3 columns</p>\n",
              "</div>"
            ],
            "text/plain": [
              "                            id                                  name     kind\n",
              "0      Anatomy::UBERON:0000002                        uterine cervix  Anatomy\n",
              "1      Anatomy::UBERON:0000004                                  nose  Anatomy\n",
              "2      Anatomy::UBERON:0000006                   islet of Langerhans  Anatomy\n",
              "3      Anatomy::UBERON:0000007                       pituitary gland  Anatomy\n",
              "4      Anatomy::UBERON:0000010             peripheral nervous system  Anatomy\n",
              "...                        ...                                   ...      ...\n",
              "47026         Symptom::D064250            Hypertriglyceridemic Waist  Symptom\n",
              "47027         Symptom::D065634              Cerebrospinal Fluid Leak  Symptom\n",
              "47028         Symptom::D065635  Benign Paroxysmal Positional Vertigo  Symptom\n",
              "47029         Symptom::D065906                       Hyperlactatemia  Symptom\n",
              "47030         Symptom::D066190                           Allesthesia  Symptom\n",
              "\n",
              "[47031 rows x 3 columns]"
            ]
          },
          "metadata": {},
          "output_type": "display_data"
        },
        {
          "name": "stdout",
          "output_type": "stream",
          "text": [
            "__________________________________________________________________________ DONE!\n",
            "\n",
            "\n",
            "Loading edges list as dataframe: _______________________________________________\n"
          ]
        },
        {
          "data": {
            "text/html": [
              "<div>\n",
              "<style scoped>\n",
              "    .dataframe tbody tr th:only-of-type {\n",
              "        vertical-align: middle;\n",
              "    }\n",
              "\n",
              "    .dataframe tbody tr th {\n",
              "        vertical-align: top;\n",
              "    }\n",
              "\n",
              "    .dataframe thead th {\n",
              "        text-align: right;\n",
              "    }\n",
              "</style>\n",
              "<table border=\"1\" class=\"dataframe\">\n",
              "  <thead>\n",
              "    <tr style=\"text-align: right;\">\n",
              "      <th></th>\n",
              "      <th>source</th>\n",
              "      <th>metaedge</th>\n",
              "      <th>target</th>\n",
              "    </tr>\n",
              "  </thead>\n",
              "  <tbody>\n",
              "    <tr>\n",
              "      <th>0</th>\n",
              "      <td>Gene::9021</td>\n",
              "      <td>GpBP</td>\n",
              "      <td>Biological Process::GO:0071357</td>\n",
              "    </tr>\n",
              "    <tr>\n",
              "      <th>1</th>\n",
              "      <td>Gene::51676</td>\n",
              "      <td>GpBP</td>\n",
              "      <td>Biological Process::GO:0098780</td>\n",
              "    </tr>\n",
              "    <tr>\n",
              "      <th>2</th>\n",
              "      <td>Gene::19</td>\n",
              "      <td>GpBP</td>\n",
              "      <td>Biological Process::GO:0055088</td>\n",
              "    </tr>\n",
              "    <tr>\n",
              "      <th>3</th>\n",
              "      <td>Gene::3176</td>\n",
              "      <td>GpBP</td>\n",
              "      <td>Biological Process::GO:0010243</td>\n",
              "    </tr>\n",
              "    <tr>\n",
              "      <th>4</th>\n",
              "      <td>Gene::3039</td>\n",
              "      <td>GpBP</td>\n",
              "      <td>Biological Process::GO:0006898</td>\n",
              "    </tr>\n",
              "    <tr>\n",
              "      <th>...</th>\n",
              "      <td>...</td>\n",
              "      <td>...</td>\n",
              "      <td>...</td>\n",
              "    </tr>\n",
              "    <tr>\n",
              "      <th>2250192</th>\n",
              "      <td>Anatomy::UBERON:0000057</td>\n",
              "      <td>AeG</td>\n",
              "      <td>Gene::65009</td>\n",
              "    </tr>\n",
              "    <tr>\n",
              "      <th>2250193</th>\n",
              "      <td>Anatomy::UBERON:0000474</td>\n",
              "      <td>AeG</td>\n",
              "      <td>Gene::80279</td>\n",
              "    </tr>\n",
              "    <tr>\n",
              "      <th>2250194</th>\n",
              "      <td>Anatomy::UBERON:0002048</td>\n",
              "      <td>AeG</td>\n",
              "      <td>Gene::1211</td>\n",
              "    </tr>\n",
              "    <tr>\n",
              "      <th>2250195</th>\n",
              "      <td>Anatomy::UBERON:0002048</td>\n",
              "      <td>AeG</td>\n",
              "      <td>Gene::8843</td>\n",
              "    </tr>\n",
              "    <tr>\n",
              "      <th>2250196</th>\n",
              "      <td>Anatomy::UBERON:0002240</td>\n",
              "      <td>AeG</td>\n",
              "      <td>Gene::2124</td>\n",
              "    </tr>\n",
              "  </tbody>\n",
              "</table>\n",
              "<p>2250197 rows × 3 columns</p>\n",
              "</div>"
            ],
            "text/plain": [
              "                          source metaedge                          target\n",
              "0                     Gene::9021     GpBP  Biological Process::GO:0071357\n",
              "1                    Gene::51676     GpBP  Biological Process::GO:0098780\n",
              "2                       Gene::19     GpBP  Biological Process::GO:0055088\n",
              "3                     Gene::3176     GpBP  Biological Process::GO:0010243\n",
              "4                     Gene::3039     GpBP  Biological Process::GO:0006898\n",
              "...                          ...      ...                             ...\n",
              "2250192  Anatomy::UBERON:0000057      AeG                     Gene::65009\n",
              "2250193  Anatomy::UBERON:0000474      AeG                     Gene::80279\n",
              "2250194  Anatomy::UBERON:0002048      AeG                      Gene::1211\n",
              "2250195  Anatomy::UBERON:0002048      AeG                      Gene::8843\n",
              "2250196  Anatomy::UBERON:0002240      AeG                      Gene::2124\n",
              "\n",
              "[2250197 rows x 3 columns]"
            ]
          },
          "metadata": {},
          "output_type": "display_data"
        },
        {
          "name": "stdout",
          "output_type": "stream",
          "text": [
            "__________________________________________________________________________ DONE!\n",
            "\n",
            "\n"
          ]
        }
      ],
      "source": [
        "# [Code: 4]\n",
        "\n",
        "# Bulding nodes dataframe from the related file\n",
        "section(\"Loading nodes' info as dataframe:\")\n",
        "nodesDF = pd.read_csv('Inputs/hetionet-v1.0-nodes.tsv',sep='\\t')\n",
        "display(nodesDF)\n",
        "section('done')\n",
        "\n",
        "# Bulding edges dataframe from the related file\n",
        "section(\"Loading edges list as dataframe:\")\n",
        "edgesDF = pd.read_csv('Inputs/hetionet-v1.0-edges.sif.gz', compression='gzip', sep='\\t')\n",
        "display(edgesDF)\n",
        "section('done')"
      ]
    },
    {
      "cell_type": "markdown",
      "metadata": {
        "id": "uki7Sxp7xJOv"
      },
      "source": [
        "### 1.2 - Preliminary analysis\n",
        "Some preliminary checks are enacted on the dataframes in order to determine which type of graph could better store the given data (i.e., a directed multigraph)."
      ]
    },
    {
      "cell_type": "code",
      "execution_count": 14,
      "metadata": {
        "colab": {
          "base_uri": "https://localhost:8080/"
        },
        "id": "WvlvfZOpop-b",
        "outputId": "afb6cd09-c4e6-471c-dc36-42a28ded0927"
      },
      "outputs": [
        {
          "name": "stdout",
          "output_type": "stream",
          "text": [
            "Nodes dataframe info: __________________________________________________________\n",
            "<class 'pandas.core.frame.DataFrame'>\n",
            "RangeIndex: 47031 entries, 0 to 47030\n",
            "Data columns (total 3 columns):\n",
            " #   Column  Non-Null Count  Dtype \n",
            "---  ------  --------------  ----- \n",
            " 0   id      47031 non-null  object\n",
            " 1   name    47031 non-null  object\n",
            " 2   kind    47031 non-null  object\n",
            "dtypes: object(3)\n",
            "memory usage: 1.1+ MB\n",
            "\n",
            "Nodes in DF: 47031 (of which 47031 different by ID)\n",
            "Symptoms' and diseases' names (other than IDs) are usable as univocal references\n",
            "________________________________________________________________________________\n",
            "\n",
            "\n",
            "Edges dataframe info: __________________________________________________________\n",
            "<class 'pandas.core.frame.DataFrame'>\n",
            "RangeIndex: 2250197 entries, 0 to 2250196\n",
            "Data columns (total 3 columns):\n",
            " #   Column    Dtype \n",
            "---  ------    ----- \n",
            " 0   source    object\n",
            " 1   metaedge  object\n",
            " 2   target    object\n",
            "dtypes: object(3)\n",
            "memory usage: 51.5+ MB\n",
            "\n",
            "Edges in DF: 2250197 \n",
            "(of which 2250197 different, but just 2110272 with different source-target pair)\n",
            "________________________________________________________________________________\n",
            "\n",
            "\n"
          ]
        }
      ],
      "source": [
        "# [Code: 5]\n",
        "\n",
        "# Nodes DF preliminary analysis                                                                                                                         > Finding:\n",
        "section(\"Nodes dataframe info:\")\n",
        "nodesFileLen = len(nodesDF.index)\n",
        "uniqueNodeIDs = len(pd.unique(nodesDF['id']))\n",
        "nodesDF.info()\n",
        "print(\"\\nNodes in DF:\", nodesFileLen, \"(of which\", uniqueNodeIDs, \"different by ID)\")                                                                   # the nodes data present 47031 different nodes\n",
        "check1 = len(nodesDF[nodesDF['kind']=='Symptom']['name'].unique()) == len(nodesDF[nodesDF['kind']=='Symptom'])                                          # symptoms' names (other than IDs) are usable as univocal references\n",
        "check2 = len(nodesDF[nodesDF['kind']=='Disease']['name'].unique()) == len(nodesDF[nodesDF['kind']=='Disease'])                                          # diseases' names (other than IDs) are usable as univocal references\n",
        "if check1 and check2:\n",
        "    print(\"Symptoms' and diseases' names (other than IDs) are usable as univocal references\")\n",
        "section('end')\n",
        "\n",
        "\n",
        "# Edges DF preliminary analysis                                                                                                                         > Finding:\n",
        "section(\"Edges dataframe info:\")\n",
        "edgesFileLen = len(edgesDF.index)\n",
        "source_targetCouples = len(edgesDF.loc[:, ['source', 'target']].drop_duplicates())\n",
        "uniqueEdges = len(edgesDF.drop_duplicates())\n",
        "edgesDF.info()\n",
        "print(\"\\nEdges in DF:\", edgesFileLen, \"\\n(of which\", uniqueEdges, \"different, but just\", source_targetCouples, \"with different source-target pair)\")    # the edges data present 2250197 edges, some with equal source-target pair but different link type\n",
        "section('end')"
      ]
    },
    {
      "cell_type": "markdown",
      "metadata": {
        "id": "zo91pent7qhS"
      },
      "source": [
        "### 1.3 - Constructing the MultiDiGraph\n",
        "A NetworkX directed multi-graph containing all the nodes' and edges' information is built - and eventually saved overwriting the previous binary file version - or extracted as object from a previously saved file."
      ]
    },
    {
      "cell_type": "code",
      "execution_count": 17,
      "metadata": {
        "colab": {
          "base_uri": "https://localhost:8080/"
        },
        "id": "L67ZCl1abetm",
        "outputId": "447d25f6-0248-48b3-f8f6-9d7b27b6cefb"
      },
      "outputs": [
        {
          "name": "stdout",
          "output_type": "stream",
          "text": [
            "MultiDiGraph loaded from previously saved file!\n",
            "Number of edges: 2250197 \n",
            "Number of nodes: 47031\n"
          ]
        }
      ],
      "source": [
        "# [Code: 6]\n",
        "\n",
        "if rebuildGraph:\n",
        "\n",
        "  # Constructing the MultiDiGRaph by reading the edges file directly (with progress bar)\n",
        "  '''\n",
        "  start = time.time()\n",
        "\n",
        "  section(\"Loading the graph blending both nodes' and edges' data:\")\n",
        "  G = nx.MultiDiGraph()\n",
        "  with gzip.open('Inputs/hetionet-v1.0-edges.sif.gz','r') as edgesFile:\n",
        "    edgesFile.readline()\n",
        "    for i in tqdm(range(edgesFileLen)):\n",
        "      lineElements = str(edgesFile.readline())[2:-5].split('\\\\t')\n",
        "      G.add_edge(lineElements[0], lineElements[2], edgeType=lineElements[1])\n",
        "  edgesNum = G.number_of_edges()\n",
        "  nodesNum = G.number_of_nodes()\n",
        "  print(edgesNum, nodesNum)\n",
        "  section(\"Done\")\n",
        "\n",
        "  end = time.time()\n",
        "  print(end - start)  # progress-bar-enriched graph building is slightly slower than plain one\n",
        "  '''\n",
        "\n",
        "  # Constructing the MultiDiGRaph by reading both the dataframes\n",
        "  G = nx.from_pandas_edgelist(edgesDF, 'source', 'target', edge_attr='metaedge', create_using=nx.MultiDiGraph())\n",
        "  edgesNum = G.number_of_edges()\n",
        "  connectedNodesNum = G.number_of_nodes()\n",
        "\n",
        "  # Eventually adding disconnected nodes too\n",
        "  if loadDisconnectedNodes:\n",
        "    G.add_nodes_from(nodesDF['id'])\n",
        "    consideredNodesDF = nodesDF\n",
        "  else:\n",
        "    consideredNodesDF = nodesDF[nodesDF['id'].isin(G.nodes())]\n",
        "  nodesNum = G.number_of_nodes()\n",
        "\n",
        "  # Setting all nodes' attributes\n",
        "  nx.set_node_attributes(G, {node['id']:{'name':node['name'],'kind':node['kind']} for (i,node) in consideredNodesDF.iterrows()})\n",
        "\n",
        "  # Saving the graph object to file\n",
        "  if overwriteSavings:\n",
        "    pickle.dump(G, open('Outputs/Graph.pickle', 'wb'))\n",
        "    print(\"MultiDiGraph built and saved!\")\n",
        "  else:\n",
        "    print(\"MultiDiGraph built!\")\n",
        "\n",
        "else:\n",
        "  # Loading the graph object from file\n",
        "  G = pickle.load(open('Outputs/Graph.pickle', 'rb'))\n",
        "  edgesNum = G.number_of_edges()\n",
        "  nodesNum = G.number_of_nodes()\n",
        "  consideredNodesDF = nodesDF[nodesDF['id'].isin(G.nodes())]\n",
        "  print(\"MultiDiGraph loaded from previously saved file!\")\n",
        "\n",
        "# Diplaying the loaded graph's basic information\n",
        "print(\"Number of edges:\", edgesNum, \"\\nNumber of nodes:\", nodesNum)\n",
        "if rebuildGraph:\n",
        "  print(\"(of which\", connectedNodesNum, \"connected)\")"
      ]
    },
    {
      "cell_type": "markdown",
      "metadata": {
        "id": "lDA1UsXLYyyK"
      },
      "source": [
        "## Part 2 – Analyzing the biomedical knowledge graph:\n",
        "In this section, a holistic analysis of the generated graph is enacted; particular attention is given to symptom and disease nodes, their inter-type correlation and intra-type similarity."
      ]
    },
    {
      "cell_type": "markdown",
      "metadata": {
        "id": "uVn9DbfXtNlB"
      },
      "source": [
        "### 2.1 - Computing some basic indicators\n",
        "To gain a general understanding of the graph's structure and size, the following metrics are computed:\n",
        "1) total number of entities for each unique kind;\n",
        "2) total number of each unique edge type;\n",
        "3) average in-degree and out-degree for each type of node."
      ]
    },
    {
      "cell_type": "code",
      "execution_count": 18,
      "metadata": {
        "colab": {
          "base_uri": "https://localhost:8080/",
          "height": 1000
        },
        "id": "bkyMLWjttGgj",
        "outputId": "cf4a44a5-5c57-4dda-ac0b-ea3d39e725ec"
      },
      "outputs": [
        {
          "name": "stdout",
          "output_type": "stream",
          "text": [
            "Listing the total number of entities for each unique kind: _____________________\n"
          ]
        },
        {
          "data": {
            "text/html": [
              "<div>\n",
              "<style scoped>\n",
              "    .dataframe tbody tr th:only-of-type {\n",
              "        vertical-align: middle;\n",
              "    }\n",
              "\n",
              "    .dataframe tbody tr th {\n",
              "        vertical-align: top;\n",
              "    }\n",
              "\n",
              "    .dataframe thead th {\n",
              "        text-align: right;\n",
              "    }\n",
              "</style>\n",
              "<table border=\"1\" class=\"dataframe\">\n",
              "  <thead>\n",
              "    <tr style=\"text-align: right;\">\n",
              "      <th></th>\n",
              "      <th>kind</th>\n",
              "      <th>total_nodes</th>\n",
              "    </tr>\n",
              "  </thead>\n",
              "  <tbody>\n",
              "    <tr>\n",
              "      <th>0</th>\n",
              "      <td>Anatomy</td>\n",
              "      <td>402</td>\n",
              "    </tr>\n",
              "    <tr>\n",
              "      <th>1</th>\n",
              "      <td>Biological Process</td>\n",
              "      <td>11381</td>\n",
              "    </tr>\n",
              "    <tr>\n",
              "      <th>2</th>\n",
              "      <td>Cellular Component</td>\n",
              "      <td>1391</td>\n",
              "    </tr>\n",
              "    <tr>\n",
              "      <th>3</th>\n",
              "      <td>Compound</td>\n",
              "      <td>1552</td>\n",
              "    </tr>\n",
              "    <tr>\n",
              "      <th>4</th>\n",
              "      <td>Disease</td>\n",
              "      <td>137</td>\n",
              "    </tr>\n",
              "    <tr>\n",
              "      <th>5</th>\n",
              "      <td>Gene</td>\n",
              "      <td>20945</td>\n",
              "    </tr>\n",
              "    <tr>\n",
              "      <th>6</th>\n",
              "      <td>Molecular Function</td>\n",
              "      <td>2884</td>\n",
              "    </tr>\n",
              "    <tr>\n",
              "      <th>7</th>\n",
              "      <td>Pathway</td>\n",
              "      <td>1822</td>\n",
              "    </tr>\n",
              "    <tr>\n",
              "      <th>8</th>\n",
              "      <td>Pharmacologic Class</td>\n",
              "      <td>345</td>\n",
              "    </tr>\n",
              "    <tr>\n",
              "      <th>9</th>\n",
              "      <td>Side Effect</td>\n",
              "      <td>5734</td>\n",
              "    </tr>\n",
              "    <tr>\n",
              "      <th>10</th>\n",
              "      <td>Symptom</td>\n",
              "      <td>438</td>\n",
              "    </tr>\n",
              "  </tbody>\n",
              "</table>\n",
              "</div>"
            ],
            "text/plain": [
              "                   kind  total_nodes\n",
              "0               Anatomy          402\n",
              "1    Biological Process        11381\n",
              "2    Cellular Component         1391\n",
              "3              Compound         1552\n",
              "4               Disease          137\n",
              "5                  Gene        20945\n",
              "6    Molecular Function         2884\n",
              "7               Pathway         1822\n",
              "8   Pharmacologic Class          345\n",
              "9           Side Effect         5734\n",
              "10              Symptom          438"
            ]
          },
          "metadata": {},
          "output_type": "display_data"
        },
        {
          "name": "stdout",
          "output_type": "stream",
          "text": [
            "__________________________________________________________________________ DONE!\n",
            "\n",
            "\n",
            "Listing the total number of each unique edge type: _____________________________\n"
          ]
        },
        {
          "data": {
            "text/html": [
              "<div>\n",
              "<style scoped>\n",
              "    .dataframe tbody tr th:only-of-type {\n",
              "        vertical-align: middle;\n",
              "    }\n",
              "\n",
              "    .dataframe tbody tr th {\n",
              "        vertical-align: top;\n",
              "    }\n",
              "\n",
              "    .dataframe thead th {\n",
              "        text-align: right;\n",
              "    }\n",
              "</style>\n",
              "<table border=\"1\" class=\"dataframe\">\n",
              "  <thead>\n",
              "    <tr style=\"text-align: right;\">\n",
              "      <th></th>\n",
              "      <th>metaedge</th>\n",
              "      <th>total_edges</th>\n",
              "    </tr>\n",
              "  </thead>\n",
              "  <tbody>\n",
              "    <tr>\n",
              "      <th>0</th>\n",
              "      <td>AdG</td>\n",
              "      <td>102240</td>\n",
              "    </tr>\n",
              "    <tr>\n",
              "      <th>1</th>\n",
              "      <td>AeG</td>\n",
              "      <td>526407</td>\n",
              "    </tr>\n",
              "    <tr>\n",
              "      <th>2</th>\n",
              "      <td>AuG</td>\n",
              "      <td>97848</td>\n",
              "    </tr>\n",
              "    <tr>\n",
              "      <th>3</th>\n",
              "      <td>CbG</td>\n",
              "      <td>11571</td>\n",
              "    </tr>\n",
              "    <tr>\n",
              "      <th>4</th>\n",
              "      <td>CcSE</td>\n",
              "      <td>138944</td>\n",
              "    </tr>\n",
              "    <tr>\n",
              "      <th>5</th>\n",
              "      <td>CdG</td>\n",
              "      <td>21102</td>\n",
              "    </tr>\n",
              "    <tr>\n",
              "      <th>6</th>\n",
              "      <td>CpD</td>\n",
              "      <td>390</td>\n",
              "    </tr>\n",
              "    <tr>\n",
              "      <th>7</th>\n",
              "      <td>CrC</td>\n",
              "      <td>6486</td>\n",
              "    </tr>\n",
              "    <tr>\n",
              "      <th>8</th>\n",
              "      <td>CtD</td>\n",
              "      <td>755</td>\n",
              "    </tr>\n",
              "    <tr>\n",
              "      <th>9</th>\n",
              "      <td>CuG</td>\n",
              "      <td>18756</td>\n",
              "    </tr>\n",
              "    <tr>\n",
              "      <th>10</th>\n",
              "      <td>DaG</td>\n",
              "      <td>12623</td>\n",
              "    </tr>\n",
              "    <tr>\n",
              "      <th>11</th>\n",
              "      <td>DdG</td>\n",
              "      <td>7623</td>\n",
              "    </tr>\n",
              "    <tr>\n",
              "      <th>12</th>\n",
              "      <td>DlA</td>\n",
              "      <td>3602</td>\n",
              "    </tr>\n",
              "    <tr>\n",
              "      <th>13</th>\n",
              "      <td>DpS</td>\n",
              "      <td>3357</td>\n",
              "    </tr>\n",
              "    <tr>\n",
              "      <th>14</th>\n",
              "      <td>DrD</td>\n",
              "      <td>543</td>\n",
              "    </tr>\n",
              "    <tr>\n",
              "      <th>15</th>\n",
              "      <td>DuG</td>\n",
              "      <td>7731</td>\n",
              "    </tr>\n",
              "    <tr>\n",
              "      <th>16</th>\n",
              "      <td>GcG</td>\n",
              "      <td>61690</td>\n",
              "    </tr>\n",
              "    <tr>\n",
              "      <th>17</th>\n",
              "      <td>GiG</td>\n",
              "      <td>147164</td>\n",
              "    </tr>\n",
              "    <tr>\n",
              "      <th>18</th>\n",
              "      <td>GpBP</td>\n",
              "      <td>559504</td>\n",
              "    </tr>\n",
              "    <tr>\n",
              "      <th>19</th>\n",
              "      <td>GpCC</td>\n",
              "      <td>73566</td>\n",
              "    </tr>\n",
              "    <tr>\n",
              "      <th>20</th>\n",
              "      <td>GpMF</td>\n",
              "      <td>97222</td>\n",
              "    </tr>\n",
              "    <tr>\n",
              "      <th>21</th>\n",
              "      <td>GpPW</td>\n",
              "      <td>84372</td>\n",
              "    </tr>\n",
              "    <tr>\n",
              "      <th>22</th>\n",
              "      <td>Gr&gt;G</td>\n",
              "      <td>265672</td>\n",
              "    </tr>\n",
              "    <tr>\n",
              "      <th>23</th>\n",
              "      <td>PCiC</td>\n",
              "      <td>1029</td>\n",
              "    </tr>\n",
              "  </tbody>\n",
              "</table>\n",
              "</div>"
            ],
            "text/plain": [
              "   metaedge  total_edges\n",
              "0       AdG       102240\n",
              "1       AeG       526407\n",
              "2       AuG        97848\n",
              "3       CbG        11571\n",
              "4      CcSE       138944\n",
              "5       CdG        21102\n",
              "6       CpD          390\n",
              "7       CrC         6486\n",
              "8       CtD          755\n",
              "9       CuG        18756\n",
              "10      DaG        12623\n",
              "11      DdG         7623\n",
              "12      DlA         3602\n",
              "13      DpS         3357\n",
              "14      DrD          543\n",
              "15      DuG         7731\n",
              "16      GcG        61690\n",
              "17      GiG       147164\n",
              "18     GpBP       559504\n",
              "19     GpCC        73566\n",
              "20     GpMF        97222\n",
              "21     GpPW        84372\n",
              "22     Gr>G       265672\n",
              "23     PCiC         1029"
            ]
          },
          "metadata": {},
          "output_type": "display_data"
        },
        {
          "name": "stdout",
          "output_type": "stream",
          "text": [
            "__________________________________________________________________________ DONE!\n",
            "\n",
            "\n",
            "Computing the average in-degree and out-degree of each node type: ______________\n"
          ]
        },
        {
          "data": {
            "text/html": [
              "<div>\n",
              "<style scoped>\n",
              "    .dataframe tbody tr th:only-of-type {\n",
              "        vertical-align: middle;\n",
              "    }\n",
              "\n",
              "    .dataframe tbody tr th {\n",
              "        vertical-align: top;\n",
              "    }\n",
              "\n",
              "    .dataframe thead th {\n",
              "        text-align: right;\n",
              "    }\n",
              "</style>\n",
              "<table border=\"1\" class=\"dataframe\">\n",
              "  <thead>\n",
              "    <tr style=\"text-align: right;\">\n",
              "      <th></th>\n",
              "      <th>kind</th>\n",
              "      <th>averageInDegree</th>\n",
              "      <th>averageOutDegree</th>\n",
              "    </tr>\n",
              "  </thead>\n",
              "  <tbody>\n",
              "    <tr>\n",
              "      <th>0</th>\n",
              "      <td>Anatomy</td>\n",
              "      <td>8.960199</td>\n",
              "      <td>1807.201493</td>\n",
              "    </tr>\n",
              "    <tr>\n",
              "      <th>1</th>\n",
              "      <td>Biological Process</td>\n",
              "      <td>49.161234</td>\n",
              "      <td>0.000000</td>\n",
              "    </tr>\n",
              "    <tr>\n",
              "      <th>2</th>\n",
              "      <td>Cellular Component</td>\n",
              "      <td>52.887132</td>\n",
              "      <td>0.000000</td>\n",
              "    </tr>\n",
              "    <tr>\n",
              "      <th>3</th>\n",
              "      <td>Compound</td>\n",
              "      <td>4.842139</td>\n",
              "      <td>127.579897</td>\n",
              "    </tr>\n",
              "    <tr>\n",
              "      <th>4</th>\n",
              "      <td>Disease</td>\n",
              "      <td>12.321168</td>\n",
              "      <td>258.970803</td>\n",
              "    </tr>\n",
              "    <tr>\n",
              "      <th>5</th>\n",
              "      <td>Gene</td>\n",
              "      <td>61.132824</td>\n",
              "      <td>61.551206</td>\n",
              "    </tr>\n",
              "    <tr>\n",
              "      <th>6</th>\n",
              "      <td>Molecular Function</td>\n",
              "      <td>33.710818</td>\n",
              "      <td>0.000000</td>\n",
              "    </tr>\n",
              "    <tr>\n",
              "      <th>7</th>\n",
              "      <td>Pathway</td>\n",
              "      <td>46.307355</td>\n",
              "      <td>0.000000</td>\n",
              "    </tr>\n",
              "    <tr>\n",
              "      <th>8</th>\n",
              "      <td>Pharmacologic Class</td>\n",
              "      <td>0.000000</td>\n",
              "      <td>2.982609</td>\n",
              "    </tr>\n",
              "    <tr>\n",
              "      <th>9</th>\n",
              "      <td>Side Effect</td>\n",
              "      <td>24.231601</td>\n",
              "      <td>0.000000</td>\n",
              "    </tr>\n",
              "    <tr>\n",
              "      <th>10</th>\n",
              "      <td>Symptom</td>\n",
              "      <td>7.664384</td>\n",
              "      <td>0.000000</td>\n",
              "    </tr>\n",
              "  </tbody>\n",
              "</table>\n",
              "</div>"
            ],
            "text/plain": [
              "                   kind  averageInDegree  averageOutDegree\n",
              "0               Anatomy         8.960199       1807.201493\n",
              "1    Biological Process        49.161234          0.000000\n",
              "2    Cellular Component        52.887132          0.000000\n",
              "3              Compound         4.842139        127.579897\n",
              "4               Disease        12.321168        258.970803\n",
              "5                  Gene        61.132824         61.551206\n",
              "6    Molecular Function        33.710818          0.000000\n",
              "7               Pathway        46.307355          0.000000\n",
              "8   Pharmacologic Class         0.000000          2.982609\n",
              "9           Side Effect        24.231601          0.000000\n",
              "10              Symptom         7.664384          0.000000"
            ]
          },
          "metadata": {},
          "output_type": "display_data"
        },
        {
          "name": "stdout",
          "output_type": "stream",
          "text": [
            "__________________________________________________________________________ DONE!\n",
            "\n",
            "\n"
          ]
        }
      ],
      "source": [
        "# [Code: 7]\n",
        "\n",
        "# (1) Counting the unique IDs for each kind of node\n",
        "section(\"Listing the total number of entities for each unique kind:\")\n",
        "entitiesPerKindDF = consideredNodesDF.groupby('kind')['id'].count().reset_index(name='total_nodes')\n",
        "display(entitiesPerKindDF)\n",
        "section('done')\n",
        "\n",
        "# (2) Counting the occurrences of each unique edge type\n",
        "section(\"Listing the total number of each unique edge type:\")\n",
        "edgesPerTypeDF = edgesDF.groupby('metaedge').size().reset_index(name='total_edges')\n",
        "display(edgesPerTypeDF)\n",
        "section('done')\n",
        "\n",
        "# (3) Calculating in-degree and out-degree for each node type\n",
        "section(\"Computing the average in-degree and out-degree of each node type:\")\n",
        "inDegreesDF = pd.DataFrame(G.in_degree(), columns=['id', 'in_degree'])\n",
        "outDegreesDF = pd.DataFrame(G.out_degree(), columns=['id', 'out_degree'])\n",
        "degreeKindDF = consideredNodesDF[['id', 'kind', 'name']].merge(inDegreesDF, on='id').merge(outDegreesDF, on='id')   # merging the information of degrees with the nodesDF to associate each node with its type\n",
        "averageDegreesPerKind = degreeKindDF.groupby('kind').agg(averageInDegree=('in_degree', 'mean'),averageOutDegree=('out_degree', 'mean')).reset_index()   # grouping by the node type (kind) and calculate the average in-degree and out-degree\n",
        "display(averageDegreesPerKind)\n",
        "section('done')"
      ]
    },
    {
      "cell_type": "markdown",
      "metadata": {
        "id": "cV4ZcfoTqXqy"
      },
      "source": [
        "### 2.2 - Analyzing diseases-symptoms correlation\n",
        "1) For each disease-type node the in-degree and out-degree is computed and the most connected diseases are shown.\n",
        "2) The disease-symptom sub-graph is extracted and the average\n",
        "number of symptoms related to a disease is computed."
      ]
    },
    {
      "cell_type": "code",
      "execution_count": 19,
      "metadata": {
        "colab": {
          "base_uri": "https://localhost:8080/",
          "height": 638
        },
        "id": "ms_PZZRvsb1I",
        "outputId": "99009b29-1676-4143-ca1e-c3c2bde3946f"
      },
      "outputs": [
        {
          "name": "stdout",
          "output_type": "stream",
          "text": [
            "Disease-type nodes with higest in-degrees: _____________________________________\n"
          ]
        },
        {
          "data": {
            "text/html": [
              "<div>\n",
              "<style scoped>\n",
              "    .dataframe tbody tr th:only-of-type {\n",
              "        vertical-align: middle;\n",
              "    }\n",
              "\n",
              "    .dataframe tbody tr th {\n",
              "        vertical-align: top;\n",
              "    }\n",
              "\n",
              "    .dataframe thead th {\n",
              "        text-align: right;\n",
              "    }\n",
              "</style>\n",
              "<table border=\"1\" class=\"dataframe\">\n",
              "  <thead>\n",
              "    <tr style=\"text-align: right;\">\n",
              "      <th></th>\n",
              "      <th>id</th>\n",
              "      <th>name</th>\n",
              "      <th>in_degree</th>\n",
              "    </tr>\n",
              "  </thead>\n",
              "  <tbody>\n",
              "    <tr>\n",
              "      <th>14739</th>\n",
              "      <td>Disease::DOID:10763</td>\n",
              "      <td>hypertension</td>\n",
              "      <td>73</td>\n",
              "    </tr>\n",
              "    <tr>\n",
              "      <th>14804</th>\n",
              "      <td>Disease::DOID:2531</td>\n",
              "      <td>hematologic cancer</td>\n",
              "      <td>53</td>\n",
              "    </tr>\n",
              "    <tr>\n",
              "      <th>14784</th>\n",
              "      <td>Disease::DOID:1612</td>\n",
              "      <td>breast cancer</td>\n",
              "      <td>44</td>\n",
              "    </tr>\n",
              "    <tr>\n",
              "      <th>14807</th>\n",
              "      <td>Disease::DOID:2841</td>\n",
              "      <td>asthma</td>\n",
              "      <td>41</td>\n",
              "    </tr>\n",
              "    <tr>\n",
              "      <th>14818</th>\n",
              "      <td>Disease::DOID:3393</td>\n",
              "      <td>coronary artery disease</td>\n",
              "      <td>40</td>\n",
              "    </tr>\n",
              "  </tbody>\n",
              "</table>\n",
              "</div>"
            ],
            "text/plain": [
              "                        id                     name  in_degree\n",
              "14739  Disease::DOID:10763             hypertension         73\n",
              "14804   Disease::DOID:2531       hematologic cancer         53\n",
              "14784   Disease::DOID:1612            breast cancer         44\n",
              "14807   Disease::DOID:2841                   asthma         41\n",
              "14818   Disease::DOID:3393  coronary artery disease         40"
            ]
          },
          "metadata": {},
          "output_type": "display_data"
        },
        {
          "name": "stdout",
          "output_type": "stream",
          "text": [
            "________________________________________________________________________________\n",
            "\n",
            "\n",
            "Disease-type nodes with higest out-degrees: ____________________________________\n"
          ]
        },
        {
          "data": {
            "text/html": [
              "<div>\n",
              "<style scoped>\n",
              "    .dataframe tbody tr th:only-of-type {\n",
              "        vertical-align: middle;\n",
              "    }\n",
              "\n",
              "    .dataframe tbody tr th {\n",
              "        vertical-align: top;\n",
              "    }\n",
              "\n",
              "    .dataframe thead th {\n",
              "        text-align: right;\n",
              "    }\n",
              "</style>\n",
              "<table border=\"1\" class=\"dataframe\">\n",
              "  <thead>\n",
              "    <tr style=\"text-align: right;\">\n",
              "      <th></th>\n",
              "      <th>id</th>\n",
              "      <th>name</th>\n",
              "      <th>out_degree</th>\n",
              "    </tr>\n",
              "  </thead>\n",
              "  <tbody>\n",
              "    <tr>\n",
              "      <th>14784</th>\n",
              "      <td>Disease::DOID:1612</td>\n",
              "      <td>breast cancer</td>\n",
              "      <td>1115</td>\n",
              "    </tr>\n",
              "    <tr>\n",
              "      <th>14804</th>\n",
              "      <td>Disease::DOID:2531</td>\n",
              "      <td>hematologic cancer</td>\n",
              "      <td>1076</td>\n",
              "    </tr>\n",
              "    <tr>\n",
              "      <th>14808</th>\n",
              "      <td>Disease::DOID:2986</td>\n",
              "      <td>IgA glomerulonephritis</td>\n",
              "      <td>966</td>\n",
              "    </tr>\n",
              "    <tr>\n",
              "      <th>14793</th>\n",
              "      <td>Disease::DOID:1909</td>\n",
              "      <td>melanoma</td>\n",
              "      <td>931</td>\n",
              "    </tr>\n",
              "    <tr>\n",
              "      <th>14842</th>\n",
              "      <td>Disease::DOID:7148</td>\n",
              "      <td>rheumatoid arthritis</td>\n",
              "      <td>868</td>\n",
              "    </tr>\n",
              "  </tbody>\n",
              "</table>\n",
              "</div>"
            ],
            "text/plain": [
              "                       id                    name  out_degree\n",
              "14784  Disease::DOID:1612           breast cancer        1115\n",
              "14804  Disease::DOID:2531      hematologic cancer        1076\n",
              "14808  Disease::DOID:2986  IgA glomerulonephritis         966\n",
              "14793  Disease::DOID:1909                melanoma         931\n",
              "14842  Disease::DOID:7148    rheumatoid arthritis         868"
            ]
          },
          "metadata": {},
          "output_type": "display_data"
        },
        {
          "name": "stdout",
          "output_type": "stream",
          "text": [
            "________________________________________________________________________________\n",
            "\n",
            "\n",
            "Disease-symtpom sub-graph info: ________________________________________________\n",
            "Type of edges: ['DrD' 'DpS']\n",
            "Average number of symptoms related to each disease: 24.503649635036496\n",
            "________________________________________________________________________________\n",
            "\n",
            "\n"
          ]
        }
      ],
      "source": [
        "# [Code: 8]\n",
        "\n",
        "# (1) Analyzing the degrees of each disease-type node\n",
        "diseasesDegrees = degreeKindDF[degreeKindDF['kind']=='Disease'].drop(columns='kind')\n",
        "section(\"Disease-type nodes with higest in-degrees:\")\n",
        "display(diseasesDegrees.sort_values(by='in_degree', ascending=False).drop(columns='out_degree').head(5))\n",
        "section('end')\n",
        "section(\"Disease-type nodes with higest out-degrees:\")\n",
        "display(diseasesDegrees.sort_values(by='out_degree', ascending=False).drop(columns='in_degree').head(5))\n",
        "section('end')\n",
        "\n",
        "# (2) Extracting the disease-symptom sub-graph and computing the symptom/disease ratio\n",
        "section(\"Disease-symtpom sub-graph info:\")\n",
        "diseasesSymptomsSubG = G.subgraph(consideredNodesDF[consideredNodesDF['kind'].isin(['Disease', 'Symptom'])]['id'])\n",
        "edgesTypeDF = edgesDF.merge(consideredNodesDF.rename(columns={'id': 'source'}), on='source').merge(consideredNodesDF.rename(columns={'id': 'target'}), on='target')\n",
        "edgesTypeDF = edgesTypeDF.rename(columns={'kind_x':'kind_source', 'name_x':'name_source','kind_y':'kind_target','name_y':'name_target'})\n",
        "edgesDiseasesSymptomsSubDF = edgesTypeDF[edgesTypeDF['kind_source'].isin(['Disease', 'Symptom']) & edgesTypeDF['kind_target'].isin(['Disease', 'Symptom'])]\n",
        "print(\"Type of edges:\", edgesDiseasesSymptomsSubDF['metaedge'].unique())  # assessing disease-to-symptom as only direction for disease-symptom edges\n",
        "symptomDiseaseRatio = len(edgesDiseasesSymptomsSubDF[edgesDiseasesSymptomsSubDF['metaedge']=='DpS'])/len(consideredNodesDF[consideredNodesDF['kind']=='Disease'])\n",
        "print(\"Average number of symptoms related to each disease:\", symptomDiseaseRatio)\n",
        "section('end')"
      ]
    },
    {
      "cell_type": "markdown",
      "metadata": {
        "id": "J0EatMbW98TH"
      },
      "source": [
        "### 2.3 - Computing diseases' and symptoms' similarity\n",
        "Similarity is computed at first with the Jaccard formula and then thorugh our function (implemented for multiDiGraphs) for three couples of nodes of the same type:\n",
        "1. type-1 and type-2 diabetes mellitus (disease nodes);\n",
        "2. eye pain and blindness (symptom nodes);\n",
        "3. PTGS2 and JUN (gene nodes).\n",
        "\n",
        "The orginal graph is casted as a simple undirected one in order to perform the typical Jaccard calculation, this has no effect in the first two cases (no multi-directional or multiple edges are present). In the third case, computations return instead different values, since gene nodes present self loops and thus links with other genes might be in- or out-going and also have three different metaedge labels [Code: 10 - Assessing graph structure]."
      ]
    },
    {
      "cell_type": "code",
      "execution_count": 25,
      "metadata": {
        "colab": {
          "base_uri": "https://localhost:8080/"
        },
        "id": "cP7yt7Ax_Lrf",
        "outputId": "8fc79a9c-63e3-47f9-bd45-23d0e070d0ce"
      },
      "outputs": [
        {
          "name": "stdout",
          "output_type": "stream",
          "text": [
            "Using the Jaccard similarity formula on graph's undirected representation: _____\n",
            "Undirected representation's number of edges: 2107709\n",
            "(142488 cancelled during casting)\n",
            "\n",
            "Jaccard similarity 1: 0.13267326732673268\n",
            "Jaccard similarity 2: 0.35\n",
            "Jaccard similarity 3: 0.10552763819095477\n",
            "________________________________________________________________________________\n",
            "\n",
            "\n",
            "Using the similarity function for multiDiGraphs: _______________________________\n",
            "Adapted Jaccard similarity 1: 0.13267326732673268\n",
            "Adapted Jaccard similarity 2: 0.35\n",
            "Adapted Jaccard similarity 3: 0.09482758620689655\n",
            "________________________________________________________________________________\n",
            "\n",
            "\n"
          ]
        },
        {
          "name": "stderr",
          "output_type": "stream",
          "text": [
            "C:\\Users\\matte\\AppData\\Local\\Temp\\ipykernel_16236\\3863310426.py:9: UserWarning: Boolean Series key will be reindexed to match DataFrame index.\n",
            "  idDiabete1 = consideredNodesDF[consideredNodesDF['name']=='type 1 diabetes mellitus'][consideredNodesDF['kind']=='Disease']['id'].iloc[0]\n",
            "C:\\Users\\matte\\AppData\\Local\\Temp\\ipykernel_16236\\3863310426.py:10: UserWarning: Boolean Series key will be reindexed to match DataFrame index.\n",
            "  idDiabete2 = consideredNodesDF[consideredNodesDF['name']=='type 2 diabetes mellitus'][consideredNodesDF['kind']=='Disease']['id'].iloc[0]\n",
            "C:\\Users\\matte\\AppData\\Local\\Temp\\ipykernel_16236\\3863310426.py:14: UserWarning: Boolean Series key will be reindexed to match DataFrame index.\n",
            "  idEyePain = consideredNodesDF[consideredNodesDF['name']=='Eye Pain'][consideredNodesDF['kind']=='Symptom']['id'].iloc[0]\n",
            "C:\\Users\\matte\\AppData\\Local\\Temp\\ipykernel_16236\\3863310426.py:15: UserWarning: Boolean Series key will be reindexed to match DataFrame index.\n",
            "  idBlindness = consideredNodesDF[consideredNodesDF['name']=='Blindness'][consideredNodesDF['kind']=='Symptom']['id'].iloc[0]\n"
          ]
        }
      ],
      "source": [
        "# [Code: 9]\n",
        "\n",
        "# Casting the MultiDiGraph in undirected-graph format and computing the three Jaccard similarities  > Finding:\n",
        "section(\"Using the Jaccard similarity formula on graph's undirected representation:\")\n",
        "undirectedG = nx.Graph(G)\n",
        "print(\"Undirected representation's number of edges:\", undirectedG.number_of_edges())\n",
        "print(\"(\", G.number_of_edges()-undirectedG.number_of_edges(), \" cancelled during casting)\", sep='') # in the multiDiGraph only a few mutliple edges between the same node couple (with different direction or metaedge) are present\n",
        "\n",
        "idDiabete1 = consideredNodesDF[consideredNodesDF['name']=='type 1 diabetes mellitus'][consideredNodesDF['kind']=='Disease']['id'].iloc[0]\n",
        "idDiabete2 = consideredNodesDF[consideredNodesDF['name']=='type 2 diabetes mellitus'][consideredNodesDF['kind']=='Disease']['id'].iloc[0]\n",
        "jaccardDiabetes = next(nx.jaccard_coefficient(undirectedG, [(idDiabete1, idDiabete2)]))\n",
        "print(\"\\nJaccard similarity 1:\", jaccardDiabetes[2])                                                # using the undirected interpretation of the original graph, this is the Jaccard similarity between the two diabete types\n",
        "\n",
        "idEyePain = consideredNodesDF[consideredNodesDF['name']=='Eye Pain'][consideredNodesDF['kind']=='Symptom']['id'].iloc[0]\n",
        "idBlindness = consideredNodesDF[consideredNodesDF['name']=='Blindness'][consideredNodesDF['kind']=='Symptom']['id'].iloc[0]\n",
        "jaccardEyeSymptoms = next(nx.jaccard_coefficient(undirectedG, [(idEyePain, idBlindness)]))\n",
        "print(\"Jaccard similarity 2:\", jaccardEyeSymptoms[2])                                               # using the undirected interpretation of the original graph, this is the Jaccard similarity between the two eye symptoms\n",
        "\n",
        "jaccardGenes = next(nx.jaccard_coefficient(undirectedG, [('Gene::5743', 'Gene::3725')]))\n",
        "print(\"Jaccard similarity 3:\", jaccardGenes[2])                                                     # using the undirected interpretation of the original graph, this is the Jaccard similarity between the two genes\n",
        "\n",
        "section('end')\n",
        "\n",
        "# Using our Jaccard-style similarity function, built for calculations with multiDiGraphs\n",
        "section(\"Using the similarity function for multiDiGraphs:\")\n",
        "print(\"Adapted Jaccard similarity 1:\", mdgJaccard(G, idDiabete1, idDiabete2))                       # using the multiDiGraph-based similarity formula on the two diabete types, the same value is obtained (absence of multi-directional and multiple edges)\n",
        "print(\"Adapted Jaccard similarity 2:\", mdgJaccard(G, idEyePain, idBlindness))                       # using the multiDiGraph-based similarity formula on the two eye symptoms, the same value is obtained (absence of multi-directional and multiple edges)\n",
        "print(\"Adapted Jaccard similarity 3:\", mdgJaccard(G, 'Gene::5743', 'Gene::3725'))                   # using the multiDiGraph-based similarity formula on two gene-type nodes, a different value is obtained (presence of multi-directional and multiple edges)\n",
        "section('end')"
      ]
    },
    {
      "cell_type": "markdown",
      "metadata": {
        "id": "nGPKJk3x-ZeC"
      },
      "source": [
        "## Part 3 - Treating an immaginary patient\n",
        "In this section, data analysis is applied on the graph in order to treat an immaginary patient: firstly an overview of the graph structure is considered, then a doctor-like function is tested with randomized patient profiles."
      ]
    },
    {
      "cell_type": "markdown",
      "metadata": {},
      "source": [
        "### 3.1 - Assessing graph structure\n",
        "To gain a general understanding on how to use data in the treatment of an immaginary patient, the edges' kind and direction between different node types is assessed and represented in visual summary."
      ]
    },
    {
      "cell_type": "code",
      "execution_count": 27,
      "metadata": {
        "colab": {
          "base_uri": "https://localhost:8080/",
          "height": 1000
        },
        "id": "MkIXDyM9XkaR",
        "outputId": "37702d10-3b62-4d78-d07e-ce69ff9e8be9"
      },
      "outputs": [
        {
          "ename": "NetworkXError",
          "evalue": "draw_networkx_edge_labels does not support multiedges.",
          "output_type": "error",
          "traceback": [
            "\u001b[1;31m---------------------------------------------------------------------------\u001b[0m",
            "\u001b[1;31mValueError\u001b[0m                                Traceback (most recent call last)",
            "File \u001b[1;32mc:\\Users\\matte\\AppData\\Local\\Programs\\Python\\Python311\\Lib\\site-packages\\networkx\\drawing\\nx_pylab.py:1118\u001b[0m, in \u001b[0;36mdraw_networkx_edge_labels\u001b[1;34m(G, pos, edge_labels, label_pos, font_size, font_color, font_family, font_weight, alpha, bbox, horizontalalignment, verticalalignment, ax, rotate, clip_on)\u001b[0m\n\u001b[0;32m   1117\u001b[0m \u001b[38;5;28;01mtry\u001b[39;00m:\n\u001b[1;32m-> 1118\u001b[0m     (u, v) \u001b[38;5;241m=\u001b[39m \u001b[38;5;28mnext\u001b[39m(\u001b[38;5;28miter\u001b[39m(labels))  \u001b[38;5;66;03m# ensures no edge key provided\u001b[39;00m\n\u001b[0;32m   1119\u001b[0m \u001b[38;5;28;01mexcept\u001b[39;00m \u001b[38;5;167;01mValueError\u001b[39;00m \u001b[38;5;28;01mas\u001b[39;00m err:\n",
            "\u001b[1;31mValueError\u001b[0m: too many values to unpack (expected 2)",
            "\nThe above exception was the direct cause of the following exception:\n",
            "\u001b[1;31mNetworkXError\u001b[0m                             Traceback (most recent call last)",
            "Cell \u001b[1;32mIn[27], line 26\u001b[0m\n\u001b[0;32m     24\u001b[0m usedEdges \u001b[38;5;241m=\u001b[39m {edge:metaedge \u001b[38;5;28;01mfor\u001b[39;00m edge,metaedge \u001b[38;5;129;01min\u001b[39;00m nx\u001b[38;5;241m.\u001b[39mget_edge_attributes(recapConnectionsG, \u001b[38;5;124m'\u001b[39m\u001b[38;5;124mmetaedge\u001b[39m\u001b[38;5;124m'\u001b[39m)\u001b[38;5;241m.\u001b[39mitems() \u001b[38;5;28;01mif\u001b[39;00m metaedge \u001b[38;5;129;01min\u001b[39;00m [\u001b[38;5;124m'\u001b[39m\u001b[38;5;124mDpS\u001b[39m\u001b[38;5;124m'\u001b[39m, \u001b[38;5;124m'\u001b[39m\u001b[38;5;124mDrD\u001b[39m\u001b[38;5;124m'\u001b[39m, \u001b[38;5;124m'\u001b[39m\u001b[38;5;124mDlA\u001b[39m\u001b[38;5;124m'\u001b[39m, \u001b[38;5;124m'\u001b[39m\u001b[38;5;124mCpD\u001b[39m\u001b[38;5;124m'\u001b[39m, \u001b[38;5;124m'\u001b[39m\u001b[38;5;124mCcSE\u001b[39m\u001b[38;5;124m'\u001b[39m, \u001b[38;5;124m'\u001b[39m\u001b[38;5;124mPCiC\u001b[39m\u001b[38;5;124m'\u001b[39m]}\n\u001b[0;32m     25\u001b[0m unusedEdges \u001b[38;5;241m=\u001b[39m {edge:metaedge \u001b[38;5;28;01mfor\u001b[39;00m edge,metaedge \u001b[38;5;129;01min\u001b[39;00m nx\u001b[38;5;241m.\u001b[39mget_edge_attributes(recapConnectionsG, \u001b[38;5;124m'\u001b[39m\u001b[38;5;124mmetaedge\u001b[39m\u001b[38;5;124m'\u001b[39m)\u001b[38;5;241m.\u001b[39mitems() \u001b[38;5;28;01mif\u001b[39;00m metaedge \u001b[38;5;129;01min\u001b[39;00m [\u001b[38;5;124m'\u001b[39m\u001b[38;5;124mAuG\u001b[39m\u001b[38;5;124m'\u001b[39m, \u001b[38;5;124m'\u001b[39m\u001b[38;5;124mDuG\u001b[39m\u001b[38;5;124m'\u001b[39m, \u001b[38;5;124m'\u001b[39m\u001b[38;5;124mCbG\u001b[39m\u001b[38;5;124m'\u001b[39m, \u001b[38;5;124m'\u001b[39m\u001b[38;5;124mGpBP\u001b[39m\u001b[38;5;124m'\u001b[39m, \u001b[38;5;124m'\u001b[39m\u001b[38;5;124mGpMF\u001b[39m\u001b[38;5;124m'\u001b[39m, \u001b[38;5;124m'\u001b[39m\u001b[38;5;124mGpCC\u001b[39m\u001b[38;5;124m'\u001b[39m, \u001b[38;5;124m'\u001b[39m\u001b[38;5;124mGpPW\u001b[39m\u001b[38;5;124m'\u001b[39m, \u001b[38;5;124m'\u001b[39m\u001b[38;5;124mCrC\u001b[39m\u001b[38;5;124m'\u001b[39m, \u001b[38;5;124m'\u001b[39m\u001b[38;5;124mGiG\u001b[39m\u001b[38;5;124m'\u001b[39m, \u001b[38;5;124m'\u001b[39m\u001b[38;5;124mGcG\u001b[39m\u001b[38;5;124m'\u001b[39m, \u001b[38;5;124m'\u001b[39m\u001b[38;5;124mGr>G\u001b[39m\u001b[38;5;124m'\u001b[39m]}\n\u001b[1;32m---> 26\u001b[0m usedEdgeLabels \u001b[38;5;241m=\u001b[39m \u001b[43mnx\u001b[49m\u001b[38;5;241;43m.\u001b[39;49m\u001b[43mdraw_networkx_edge_labels\u001b[49m\u001b[43m(\u001b[49m\u001b[43mrecapConnectionsG\u001b[49m\u001b[43m,\u001b[49m\u001b[43m \u001b[49m\u001b[43mpos\u001b[49m\u001b[43m,\u001b[49m\u001b[43m \u001b[49m\u001b[43medge_labels\u001b[49m\u001b[38;5;241;43m=\u001b[39;49m\u001b[43musedEdges\u001b[49m\u001b[43m \u001b[49m\u001b[43m,\u001b[49m\u001b[43m  \u001b[49m\u001b[43mfont_color\u001b[49m\u001b[38;5;241;43m=\u001b[39;49m\u001b[38;5;124;43m'\u001b[39;49m\u001b[38;5;124;43mblue\u001b[39;49m\u001b[38;5;124;43m'\u001b[39;49m\u001b[43m)\u001b[49m\n\u001b[0;32m     27\u001b[0m unusedEdgeLabels \u001b[38;5;241m=\u001b[39m nx\u001b[38;5;241m.\u001b[39mdraw_networkx_edge_labels(recapConnectionsG, pos, edge_labels\u001b[38;5;241m=\u001b[39munusedEdges ,  font_color\u001b[38;5;241m=\u001b[39m\u001b[38;5;124m'\u001b[39m\u001b[38;5;124mgrey\u001b[39m\u001b[38;5;124m'\u001b[39m)\n\u001b[0;32m     28\u001b[0m \u001b[38;5;28;01mif\u001b[39;00m overwriteSavings:\n",
            "File \u001b[1;32mc:\\Users\\matte\\AppData\\Local\\Programs\\Python\\Python311\\Lib\\site-packages\\networkx\\drawing\\nx_pylab.py:1120\u001b[0m, in \u001b[0;36mdraw_networkx_edge_labels\u001b[1;34m(G, pos, edge_labels, label_pos, font_size, font_color, font_family, font_weight, alpha, bbox, horizontalalignment, verticalalignment, ax, rotate, clip_on)\u001b[0m\n\u001b[0;32m   1118\u001b[0m     (u, v) \u001b[38;5;241m=\u001b[39m \u001b[38;5;28mnext\u001b[39m(\u001b[38;5;28miter\u001b[39m(labels))  \u001b[38;5;66;03m# ensures no edge key provided\u001b[39;00m\n\u001b[0;32m   1119\u001b[0m \u001b[38;5;28;01mexcept\u001b[39;00m \u001b[38;5;167;01mValueError\u001b[39;00m \u001b[38;5;28;01mas\u001b[39;00m err:\n\u001b[1;32m-> 1120\u001b[0m     \u001b[38;5;28;01mraise\u001b[39;00m nx\u001b[38;5;241m.\u001b[39mNetworkXError(\n\u001b[0;32m   1121\u001b[0m         \u001b[38;5;124m\"\u001b[39m\u001b[38;5;124mdraw_networkx_edge_labels does not support multiedges.\u001b[39m\u001b[38;5;124m\"\u001b[39m\n\u001b[0;32m   1122\u001b[0m     ) \u001b[38;5;28;01mfrom\u001b[39;00m \u001b[38;5;21;01merr\u001b[39;00m\n\u001b[0;32m   1123\u001b[0m \u001b[38;5;28;01mexcept\u001b[39;00m \u001b[38;5;167;01mStopIteration\u001b[39;00m:\n\u001b[0;32m   1124\u001b[0m     \u001b[38;5;28;01mpass\u001b[39;00m\n",
            "\u001b[1;31mNetworkXError\u001b[0m: draw_networkx_edge_labels does not support multiedges."
          ]
        },
        {
          "data": {
            "image/png": "[encoded data removed]",
            "text/plain": [
              "<Figure size 1000x1000 with 1 Axes>"
            ]
          },
          "metadata": {},
          "output_type": "display_data"
        }
      ],
      "source": [
        "# [Code: 10]\n",
        "\n",
        "# Building the graph representing all the possible types of connections among the different node kinds\n",
        "connectionTypeDF = edgesTypeDF[['metaedge','kind_source','kind_target']].drop_duplicates()\n",
        "recapConnectionsG =  nx.from_pandas_edgelist(connectionTypeDF, 'kind_source', 'kind_target', edge_attr='metaedge', create_using=nx.MultiDiGraph())\n",
        "\n",
        "# Drawing the graph structure with nodes and edges\n",
        "if generateImages:\n",
        "  plt.figure(figsize=(10, 10))\n",
        "  pos = {'Gene':[0.5,-0.2],\n",
        "         'Biological Process':[-0.2,-0.8],\n",
        "         'Compound':[0.5,0.5],\n",
        "         'Anatomy':[-0.5,0.5],\n",
        "         'Disease':[-0.5,-0.5],\n",
        "         'Molecular Function':[0.2,-0.8],\n",
        "         'Pathway':[1.2,-0.8],\n",
        "         'Cellular Component':[0.8,-0.8],\n",
        "         'Pharmacologic Class':[0.8,0.2],\n",
        "         'Side Effect':[ 0.8, 0.8],\n",
        "         'Symptom':[ -0.8, -0.8]} # customized positions for all nodes\n",
        "  nx.draw(recapConnectionsG, pos, with_labels=True, node_color='lightblue', edge_color='gray', arrowstyle='-|>', arrowsize=15)\n",
        "  unusedNodes = ['Gene', 'Biological Process', 'Cellular Component', 'Molecular Function', 'Pathway']\n",
        "  nx.draw_networkx_nodes(recapConnectionsG, pos, nodelist=unusedNodes, node_color='lightgrey', alpha=0.8)\n",
        "  usedEdges = {edge:metaedge for edge,metaedge in nx.get_edge_attributes(recapConnectionsG, 'metaedge').items() if metaedge in ['DpS', 'DrD', 'DlA', 'CpD', 'CcSE', 'PCiC']}\n",
        "  unusedEdges = {edge:metaedge for edge,metaedge in nx.get_edge_attributes(recapConnectionsG, 'metaedge').items() if metaedge in ['AuG', 'DuG', 'CbG', 'GpBP', 'GpMF', 'GpCC', 'GpPW', 'CrC', 'GiG', 'GcG', 'Gr>G']}\n",
        "  usedEdgeLabels = nx.draw_networkx_edge_labels(recapConnectionsG, pos, edge_labels=usedEdges ,  font_color='blue')\n",
        "  unusedEdgeLabels = nx.draw_networkx_edge_labels(recapConnectionsG, pos, edge_labels=unusedEdges ,  font_color='grey')\n",
        "  if overwriteSavings:\n",
        "    plt.savefig('Outputs/Graph_structure.png', dpi=300, bbox_inches='tight')\n",
        "  section(\"Graph representing all the possible types of connections among the different node kinds:\")\n",
        "  plt.show()\n",
        "  section('end')"
      ]
    },
    {
      "cell_type": "markdown",
      "metadata": {},
      "source": [
        "### 3.2 - Extracting diagnoses\n",
        "The function we developed is tested with random patient profiles, the results are presented in visual format.\n",
        "***\n",
        "TODO: verificare la verosomiglianza delle ipotesi confrontando la descrizione dei metaedge nella repository d'origine degli input, riportarne le informazioni significative nel readme degli input della nostra repository.\n",
        "\n",
        "Hypoteses:\n",
        "- The patient comes to chatDOC recognizing of one and only one main symptom\n",
        "- The patient is eventually also aware of other secondary symptoms (which may be uncorrelated with the main one, thus not considered to obtain the final diagnosis) and already diagnosed diseases\n",
        "- The patient has one and only one disease to be diagnosed, if no significant symptoms are recognized which are not correlated to an already diagnosed disease, that diagnosis will be just confirmed.\n",
        "- Disease-to-symptom edges mean that the particular disease necessarily implies the appeareance of all the connected symptoms (while not viceversa), thus the main symptoms are considered to be the ones triggered by a lower number of different diseases\n",
        "- Compound-to-disease edges mean that the particular compound perfectly treats (at the same exact extent as all the other compounds connected to that disease node) the specific illness\n",
        "- Compound-to-side-effect edges mean that the particular compound eventually casues the appearance of that specific side effect with an undefined constant probability, thus (being all side effects comparable by severeness) the best compound for a disease is determinable as the connected one with fewer possible side effects\n",
        "- Disease-to-anatomy edges mean that the particular disease could affect the specific anatomy, thus the main anatomies are considered to be the ones affectable by a lower number of different diseases\n",
        "- Disease-to-diseases edges connect pairs of diseases that could probably appear together in a patient, thus (if no univocal diagnosis is obtainable based on observed symptoms olny) eventually multiple possible diagnosis are ordered based on their eventual connections with already diagnosed diseases"
      ]
    },
    {
      "cell_type": "code",
      "execution_count": 30,
      "metadata": {
        "colab": {
          "base_uri": "https://localhost:8080/"
        },
        "id": "hg73lTwrhEqr",
        "outputId": "71cea77d-e8aa-4eb3-9c09-be18c55d6ac7"
      },
      "outputs": [
        {
          "name": "stdout",
          "output_type": "stream",
          "text": [
            "A random patient's diagnosis scheme: ___________________________________________\n"
          ]
        },
        {
          "ename": "ModuleNotFoundError",
          "evalue": "No module named 'mdgJaccard'",
          "output_type": "error",
          "traceback": [
            "\u001b[1;31m---------------------------------------------------------------------------\u001b[0m",
            "\u001b[1;31mModuleNotFoundError\u001b[0m                       Traceback (most recent call last)",
            "Cell \u001b[1;32mIn[30], line 6\u001b[0m\n\u001b[0;32m      4\u001b[0m section(\u001b[38;5;124m\"\u001b[39m\u001b[38;5;124mA random patient\u001b[39m\u001b[38;5;124m'\u001b[39m\u001b[38;5;124ms diagnosis scheme:\u001b[39m\u001b[38;5;124m\"\u001b[39m)\n\u001b[0;32m      5\u001b[0m patient \u001b[38;5;241m=\u001b[39m patientRand(G,random\u001b[38;5;241m.\u001b[39mrandint(\u001b[38;5;241m1\u001b[39m,\u001b[38;5;241m4\u001b[39m),random\u001b[38;5;241m.\u001b[39mrandint(\u001b[38;5;241m0\u001b[39m,\u001b[38;5;241m2\u001b[39m),random\u001b[38;5;241m.\u001b[39mrandint(\u001b[38;5;241m0\u001b[39m,\u001b[38;5;241m2\u001b[39m))\n\u001b[1;32m----> 6\u001b[0m output \u001b[38;5;241m=\u001b[39m \u001b[43mchatDOC\u001b[49m\u001b[43m(\u001b[49m\u001b[43mG\u001b[49m\u001b[43m,\u001b[49m\u001b[43mpatient\u001b[49m\u001b[43m[\u001b[49m\u001b[38;5;241;43m0\u001b[39;49m\u001b[43m]\u001b[49m\u001b[43m)\u001b[49m\n\u001b[0;32m      7\u001b[0m \u001b[38;5;66;03m#if output['diagnosis'] in patient[1] or set(output['possibleDiseases'])-patient[1] == set():\u001b[39;00m\n\u001b[0;32m      8\u001b[0m \u001b[38;5;66;03m#    visualizeDOC.show()\u001b[39;00m\n\u001b[0;32m      9\u001b[0m \u001b[38;5;66;03m#    visualizeDOC.save(...)\u001b[39;00m\n\u001b[0;32m     10\u001b[0m \u001b[38;5;66;03m#else:\u001b[39;00m\n\u001b[0;32m     11\u001b[0m \u001b[38;5;66;03m#    print(\"Error: non-coherent diagnosis\")\u001b[39;00m\n\u001b[0;32m     12\u001b[0m section(\u001b[38;5;124m'\u001b[39m\u001b[38;5;124mend\u001b[39m\u001b[38;5;124m'\u001b[39m)\n",
            "File \u001b[1;32mc:\\Users\\matte\\Desktop\\Advanced-Coding-for-Data-Analytics-Project-2024\\Functions\\chatDOC.py:21\u001b[0m, in \u001b[0;36mchatDOC\u001b[1;34m(G, patient)\u001b[0m\n\u001b[0;32m      2\u001b[0m \u001b[38;5;250m\u001b[39m\u001b[38;5;124;03m'''\u001b[39;00m\n\u001b[0;32m      3\u001b[0m \u001b[38;5;124;03mFunction to analyze an hypothetical patient situation starting from suffered symptoms and eventually already diagnosed diseases in order to:\u001b[39;00m\n\u001b[0;32m      4\u001b[0m \u001b[38;5;124;03m- when possible, obtain a univocal diagnosis of the responsible disease, indicating relevant revealing symptoms and known diseases and\u001b[39;00m\n\u001b[1;32m   (...)\u001b[0m\n\u001b[0;32m     17\u001b[0m \u001b[38;5;124;03m- - -\u001b[39;00m\n\u001b[0;32m     18\u001b[0m \u001b[38;5;124;03m'''\u001b[39;00m\n\u001b[0;32m     20\u001b[0m \u001b[38;5;28;01mimport\u001b[39;00m \u001b[38;5;21;01mnetworkx\u001b[39;00m \u001b[38;5;28;01mas\u001b[39;00m \u001b[38;5;21;01mnx\u001b[39;00m\n\u001b[1;32m---> 21\u001b[0m \u001b[38;5;28;01mfrom\u001b[39;00m \u001b[38;5;21;01mmdgJaccard\u001b[39;00m \u001b[38;5;28;01mimport\u001b[39;00m mdgJaccard\n\u001b[0;32m     23\u001b[0m \u001b[38;5;66;03m# Eventual activation of input-output chat mode if patient == None\u001b[39;00m\n\u001b[0;32m     24\u001b[0m IO \u001b[38;5;241m=\u001b[39m \u001b[38;5;28;01mTrue\u001b[39;00m\n",
            "\u001b[1;31mModuleNotFoundError\u001b[0m: No module named 'mdgJaccard'"
          ]
        }
      ],
      "source": [
        "# [Code: 11]\n",
        "\n",
        "# Applying chatDOC and the related visualization function on patientRand-generated profiles\n",
        "section(\"A random patient's diagnosis scheme:\")\n",
        "patient = patientRand(G,random.randint(1,4),random.randint(0,2),random.randint(0,2))\n",
        "output = chatDOC(G,patient[0])\n",
        "#if output['diagnosis'] in patient[1] or set(output['possibleDiseases'])-patient[1] == set():\n",
        "#    visualizeDOC.show()\n",
        "#    visualizeDOC.save(...)\n",
        "#else:\n",
        "#    print(\"Error: non-coherent diagnosis\")\n",
        "section('end')"
      ]
    },
    {
      "cell_type": "markdown",
      "metadata": {},
      "source": [
        "## TO CHECK:"
      ]
    },
    {
      "cell_type": "code",
      "execution_count": null,
      "metadata": {},
      "outputs": [],
      "source": [
        "# Nota: a volte la diagnosi univoca trovata da chatDOC è solo la conferma di una delle malattie già diagnosticate che il paziente porta in input,\n",
        "  #       in tal caso la visualizzazione può mantenere lo stesso schema e la malattia deve comparire come rilevante sia nella sezione paziente (a sx) sia come diagnosi (a dx),\n",
        "  #       possibilmente con un collegamento più vistoso di quello tra relevant diseases e diagnosi.\n",
        "  #       Per questo motivo diagnosisSymtoms (contenente tutti i sintomi dovuti alla malattia diagnosticata, anche se già riscontrati dal paziente) è stato aggiunto all'output di chatDOC:\n",
        "  #       nel suddetto caso, andrà visualizzata (con nota annessa) la top-3 dei sintomi connessi alla diagnosi anziché quella dei sintomi AGGIUNTI dovuti alla diagnosi (che risulterebbe vuota)."
      ]
    },
    {
      "cell_type": "code",
      "execution_count": null,
      "metadata": {},
      "outputs": [],
      "source": [
        "testMalattia2 = {'symptoms': ['Symptom::D005600'],\n",
        "                 'diseases': ['Disease::DOID:1686'],\n",
        "                 'diseasesAdditionalSymptoms': ['Symptom::D010167', 'Symptom::D015877', 'Symptom::D019591', 'Symptom::D020795', 'Symptom::D012415', 'Symptom::D015878', 'Symptom::D020757', 'Symptom::D006988', 'Symptom::D015845', 'Symptom::D002832', 'Symptom::D058447', 'Symptom::D000550', 'Symptom::D005130', 'Symptom::D015875', 'Symptom::D014823', 'Symptom::D003117', 'Symptom::D011681', 'Symptom::D006423', 'Symptom::D012607', 'Symptom::D012166', 'Symptom::D015354', 'Symptom::D014786', 'Symptom::D001766', 'Symptom::D005132', 'Symptom::D004487'],\n",
        "                 'relevantSymptoms': ['Symptom::D005600'],\n",
        "                 'irrelevantSymptoms': ['Symptom::D010167', 'Symptom::D015877', 'Symptom::D019591', 'Symptom::D020795', 'Symptom::D012415', 'Symptom::D015878', 'Symptom::D020757', 'Symptom::D006988', 'Symptom::D015845', 'Symptom::D002832', 'Symptom::D058447', 'Symptom::D000550', 'Symptom::D005130', 'Symptom::D015875', 'Symptom::D014823', 'Symptom::D003117', 'Symptom::D011681', 'Symptom::D006423', 'Symptom::D012607', 'Symptom::D012166', 'Symptom::D015354', 'Symptom::D014786', 'Symptom::D001766', 'Symptom::D005132', 'Symptom::D004487'],\n",
        "                 'unrecognizedSymptoms': [],\n",
        "                 'relevantDiseases': set(),\n",
        "                 'irrelevantDiseases': {'Disease::DOID:1686'},\n",
        "                 'unrecognizedDiseases': [],\n",
        "                 'possibleDiseases': ['Disease::DOID:12849', 'Disease::DOID:1094'],\n",
        "                 'diagnosis': None,\n",
        "                 'diagnosisSymptoms': None,\n",
        "                 'additionalSymptoms': None,\n",
        "                 'anatomies': None,\n",
        "                 'compounds_sideEffectsNum': None,\n",
        "                 'bestCompoundPharmacologicClasses': None}\n",
        "#visualizeDOC(G, testMalattia2).show()"
      ]
    },
    {
      "cell_type": "code",
      "execution_count": null,
      "metadata": {},
      "outputs": [],
      "source": [
        "testMalattia3 = {'symptoms': ['Symptom::D010845'], 'diseases': ['Disease::DOID:8577', 'Disease::DOID:1686'], 'diseasesAdditionalSymptoms': ['Symptom::D003635', 'Symptom::D011694', 'Symptom::D003968', 'Symptom::D005414', 'Symptom::D011695', 'Symptom::D005183', 'Symptom::D011693', 'Symptom::D011696', 'Symptom::D018771', 'Symptom::D007565', 'Symptom::D016553', 'Symptom::D012877', 'Symptom::D003085', 'Symptom::D011602', 'Symptom::D004415', 'Symptom::D003248', 'Symptom::D005132', 'Symptom::D006319', 'Symptom::D005335', 'Symptom::D000006', 'Symptom::D003967', 'Symptom::D009325', 'Symptom::D014839', 'Symptom::D005334', 'Symptom::D015746', 'Symptom::D010167', 'Symptom::D015877', 'Symptom::D019591', 'Symptom::D020795', 'Symptom::D012415', 'Symptom::D015878', 'Symptom::D020757', 'Symptom::D006988', 'Symptom::D015845', 'Symptom::D002832', 'Symptom::D058447', 'Symptom::D000550', 'Symptom::D005130', 'Symptom::D015875', 'Symptom::D014823', 'Symptom::D003117', 'Symptom::D011681', 'Symptom::D006423', 'Symptom::D012607', 'Symptom::D012166', 'Symptom::D015354', 'Symptom::D014786', 'Symptom::D001766', 'Symptom::D004487'], 'relevantSymptoms': ['Symptom::D010845'], 'irrelevantSymptoms': ['Symptom::D003635', 'Symptom::D011694', 'Symptom::D003968', 'Symptom::D005414', 'Symptom::D011695', 'Symptom::D005183', 'Symptom::D011693', 'Symptom::D011696', 'Symptom::D018771', 'Symptom::D007565', 'Symptom::D016553', 'Symptom::D012877', 'Symptom::D003085', 'Symptom::D011602', 'Symptom::D004415', 'Symptom::D003248', 'Symptom::D005132', 'Symptom::D006319', 'Symptom::D005335', 'Symptom::D000006', 'Symptom::D003967', 'Symptom::D009325', 'Symptom::D014839', 'Symptom::D005334', 'Symptom::D015746', 'Symptom::D010167', 'Symptom::D015877', 'Symptom::D019591', 'Symptom::D020795', 'Symptom::D012415', 'Symptom::D015878', 'Symptom::D020757', 'Symptom::D006988', 'Symptom::D015845', 'Symptom::D002832', 'Symptom::D058447', 'Symptom::D000550', 'Symptom::D005130', 'Symptom::D015875', 'Symptom::D014823', 'Symptom::D003117', 'Symptom::D011681', 'Symptom::D006423', 'Symptom::D012607', 'Symptom::D012166', 'Symptom::D015354', 'Symptom::D014786', 'Symptom::D001766', 'Symptom::D004487'], 'unrecognizedSymptoms': [], 'relevantDiseases': set(), 'irrelevantDiseases': {'Disease::DOID:8577', 'Disease::DOID:1686'}, 'unrecognizedDiseases': [], 'possibleDiseases': ['Disease::DOID:9970', 'Disease::DOID:3083', 'Disease::DOID:8986'], 'diagnosis': None, 'diagnosisSymptoms': None, 'additionalSymptoms': None, 'anatomies': None, 'compounds_sideEffectsNum': None, 'bestCompoundPharmacologicClasses': None}\n",
        "#visualizeDOC(G, testMalattia3).show()"
      ]
    },
    {
      "cell_type": "code",
      "execution_count": null,
      "metadata": {},
      "outputs": [],
      "source": [
        "# test malattia diagnosticata == malattia paziente\n",
        "testMalattia = {'symptoms': ['Symptom::D011539', 'Symptom::D053158'],\n",
        "                'diseases': ['Disease::DOID:4159'],\n",
        "                'diseasesAdditionalSymptoms': ['Symptom::D054078', 'Symptom::D000787', 'Symptom::D011695', 'Symptom::D006337', 'Symptom::D011696', 'Symptom::D007565', 'Symptom::D005158', 'Symptom::D006319', 'Symptom::D005335', 'Symptom::D005334', 'Symptom::D015746', 'Symptom::D004487'],\n",
        "                'relevantSymptoms': ['Symptom::D011539', 'Symptom::D011696', 'Symptom::D005158', 'Symptom::D005334', 'Symptom::D004487'],\n",
        "                'irrelevantSymptoms': ['Symptom::D053158', 'Symptom::D054078', 'Symptom::D000787', 'Symptom::D011695', 'Symptom::D006337', 'Symptom::D007565', 'Symptom::D006319', 'Symptom::D005335', 'Symptom::D015746'],\n",
        "                'unrecognizedSymptoms': [],\n",
        "                'relevantDiseases': {'Disease::DOID:4159'},\n",
        "                'irrelevantDiseases': set(),\n",
        "                'unrecognizedDiseases': [],\n",
        "                'possibleDiseases': None,\n",
        "                'diagnosis': 'Disease::DOID:4159',\n",
        "                'diagnosisSymptoms': ['Symptom::D011539', 'Symptom::D012415', 'Symptom::D014008', 'Symptom::D011538', 'Symptom::D009755', 'Symptom::D006930', 'Symptom::D019080', 'Symptom::D004438', 'Symptom::D020335', 'Symptom::D001260', 'Symptom::D011696', 'Symptom::D011693', 'Symptom::D009912', 'Symptom::D003638', 'Symptom::D011537', 'Symptom::D008607', 'Symptom::D006942', 'Symptom::D012877', 'Symptom::D005158', 'Symptom::D004314', 'Symptom::D010264', 'Symptom::D005132', 'Symptom::D010292', 'Symptom::D010149', 'Symptom::D009325', 'Symptom::D014839', 'Symptom::D005334', 'Symptom::D010146', 'Symptom::D004487'],\n",
        "                'additionalSymptoms': ['Symptom::D012415', 'Symptom::D014008', 'Symptom::D011538', 'Symptom::D009755', 'Symptom::D006930', 'Symptom::D019080', 'Symptom::D004438', 'Symptom::D020335', 'Symptom::D001260', 'Symptom::D011693', 'Symptom::D009912', 'Symptom::D003638', 'Symptom::D011537', 'Symptom::D008607', 'Symptom::D006942', 'Symptom::D012877', 'Symptom::D004314', 'Symptom::D010264', 'Symptom::D005132', 'Symptom::D010292', 'Symptom::D010149', 'Symptom::D009325', 'Symptom::D014839', 'Symptom::D010146'],\n",
        "                'anatomies': ['Anatomy::UBERON:0002030', 'Anatomy::UBERON:0002297', 'Anatomy::UBERON:0001031', 'Anatomy::UBERON:0001866', 'Anatomy::UBERON:0001818', 'Anatomy::UBERON:0002073', 'Anatomy::UBERON:0006849', 'Anatomy::UBERON:0001833', 'Anatomy::UBERON:0001820', 'Anatomy::UBERON:0002102', 'Anatomy::UBERON:0002521', 'Anatomy::UBERON:0002067', 'Anatomy::UBERON:0001352', 'Anatomy::UBERON:0001003', 'Anatomy::UBERON:0000004', 'Anatomy::UBERON:0001463', 'Anatomy::UBERON:0001821', 'Anatomy::UBERON:0001567', 'Anatomy::UBERON:0001702', 'Anatomy::UBERON:0001705', 'Anatomy::UBERON:0000474', 'Anatomy::UBERON:0000997', 'Anatomy::UBERON:0000026', 'Anatomy::UBERON:0001461', 'Anatomy::UBERON:0001691', 'Anatomy::UBERON:0001467', 'Anatomy::UBERON:0001711', 'Anatomy::UBERON:0000978', 'Anatomy::UBERON:0000989', 'Anatomy::UBERON:0002386', 'Anatomy::UBERON:0002103', 'Anatomy::UBERON:0001021', 'Anatomy::UBERON:0001460', 'Anatomy::UBERON:0001037', 'Anatomy::UBERON:0001690', 'Anatomy::UBERON:0000033', 'Anatomy::UBERON:0002356', 'Anatomy::UBERON:0001981', 'Anatomy::UBERON:0001300', 'Anatomy::UBERON:0002384', 'Anatomy::UBERON:0000974', 'Anatomy::UBERON:0002387', 'Anatomy::UBERON:0002398', 'Anatomy::UBERON:0001456', 'Anatomy::UBERON:0002097', 'Anatomy::UBERON:0002378', 'Anatomy::UBERON:0002389', 'Anatomy::UBERON:0000482', 'Anatomy::UBERON:0001744', 'Anatomy::UBERON:0001986', 'Anatomy::UBERON:0000029', 'Anatomy::UBERON:0000483'],\n",
        "                'compounds_sideEffectsNum': [('Compound::DB00851', 0), ('Compound::DB08828', 54), ('Compound::DB00970', 75), ('Compound::DB08881', 90), ('Compound::DB00290', 105), ('Compound::DB00544', 169), ('Compound::DB00853', 241), ('Compound::DB00724', 268), ('Compound::DB01248', 297)],\n",
        "                'bestCompoundPharmacologicClasses': ['Pharmacologic Class::N0000000236']}\n",
        "\n",
        "#visualizeDOC(G, testMalattia).show()"
      ]
    },
    {
      "cell_type": "code",
      "execution_count": null,
      "metadata": {},
      "outputs": [],
      "source": [
        "testfallito1 = {'symptoms': ['Symptom::D004454', 'Symptom::D006816', 'Symptom::D013342', 'Symptom::D020150', 'Symptom::D012133'], 'diseases': ['Disease::DOID:2377'], 'diseasesAdditionalSymptoms': ['Symptom::D054972', 'Symptom::D054971', 'Symptom::D055955', 'Symptom::D009122', 'Symptom::D000326', 'Symptom::D009222', 'Symptom::D001264', 'Symptom::D053202', 'Symptom::D000370', 'Symptom::D020828', 'Symptom::D005207', 'Symptom::D020336', 'Symptom::D009128', 'Symptom::D005222', 'Symptom::D007035', 'Symptom::D001039', 'Symptom::D014202', 'Symptom::D059411', 'Symptom::D020234', 'Symptom::D009120', 'Symptom::D053201', 'Symptom::D006313', 'Symptom::D006606', 'Symptom::D004411', 'Symptom::D006970', 'Symptom::D003639', 'Symptom::D000381', 'Symptom::D004401', 'Symptom::D013035', 'Symptom::D020078', 'Symptom::D001072', 'Symptom::D003117', 'Symptom::D051346', 'Symptom::D004421', 'Symptom::D006316', 'Symptom::D006423', 'Symptom::D002819', 'Symptom::D020233', 'Symptom::D010468', 'Symptom::D012607', 'Symptom::D006429', 'Symptom::D014717', 'Symptom::D001037', 'Symptom::D008569', 'Symptom::D014549', 'Symptom::D014103', 'Symptom::D004244', 'Symptom::D012021', 'Symptom::D015354', 'Symptom::D001750', 'Symptom::D012678', 'Symptom::D001259', 'Symptom::D009133', 'Symptom::D009437', 'Symptom::D013064', 'Symptom::D002524', 'Symptom::D009886', 'Symptom::D011782', 'Symptom::D006987', 'Symptom::D006311', 'Symptom::D004172', 'Symptom::D014786', 'Symptom::D005158', 'Symptom::D001766', 'Symptom::D012893', 'Symptom::D010291', 'Symptom::D010264', 'Symptom::D003248', 'Symptom::D005132', 'Symptom::D006319', 'Symptom::D005221', 'Symptom::D010292', 'Symptom::D009461', 'Symptom::D018908', 'Symptom::D010243', 'Symptom::D010146'], 'relevantSymptoms': ['Symptom::D004454', 'Symptom::D006816', 'Symptom::D013342', 'Symptom::D004421', 'Symptom::D002819', 'Symptom::D014103', 'Symptom::D012021', 'Symptom::D013064', 'Symptom::D012893'], 'irrelevantSymptoms': ['Symptom::D006816', 'Symptom::D020150', 'Symptom::D012133', 'Symptom::D054972', 'Symptom::D054971', 'Symptom::D055955', 'Symptom::D009122', 'Symptom::D000326', 'Symptom::D009222', 'Symptom::D001264', 'Symptom::D053202', 'Symptom::D000370', 'Symptom::D020828', 'Symptom::D005207', 'Symptom::D020336', 'Symptom::D009128', 'Symptom::D005222', 'Symptom::D007035', 'Symptom::D001039', 'Symptom::D014202', 'Symptom::D059411', 'Symptom::D020234', 'Symptom::D009120', 'Symptom::D053201', 'Symptom::D006313', 'Symptom::D006606', 'Symptom::D004411', 'Symptom::D006970', 'Symptom::D003639', 'Symptom::D000381', 'Symptom::D004401', 'Symptom::D013035', 'Symptom::D020078', 'Symptom::D001072', 'Symptom::D003117', 'Symptom::D051346', 'Symptom::D006316', 'Symptom::D006423', 'Symptom::D020233', 'Symptom::D010468', 'Symptom::D012607', 'Symptom::D006429', 'Symptom::D014717', 'Symptom::D001037', 'Symptom::D008569', 'Symptom::D014549', 'Symptom::D004244', 'Symptom::D015354', 'Symptom::D001750', 'Symptom::D012678', 'Symptom::D001259', 'Symptom::D009133', 'Symptom::D009437', 'Symptom::D002524', 'Symptom::D009886', 'Symptom::D011782', 'Symptom::D006987', 'Symptom::D006311', 'Symptom::D004172', 'Symptom::D014786', 'Symptom::D005158', 'Symptom::D001766', 'Symptom::D010291', 'Symptom::D010264', 'Symptom::D003248', 'Symptom::D005132', 'Symptom::D006319', 'Symptom::D005221', 'Symptom::D010292', 'Symptom::D009461', 'Symptom::D018908', 'Symptom::D010243', 'Symptom::D010146'], 'unrecognizedSymptoms': [], 'relevantDiseases': {'Disease::DOID:2377'}, 'irrelevantDiseases': set(), 'unrecognizedDiseases': [], 'possibleDiseases': None, 'diagnosis': 'Disease::DOID:11119', 'diagnosisSymptoms': ['Symptom::D000334', 'Symptom::D020323', 'Symptom::D015518', 'Symptom::D004454', 'Symptom::D002375', 'Symptom::D004409', 'Symptom::D007926', 'Symptom::D013342', 'Symptom::D017109', 'Symptom::D006948', 'Symptom::D006816', 'Symptom::D004421', 'Symptom::D011595', 'Symptom::D007806', 'Symptom::D002819', 'Symptom::D007859', 'Symptom::D009207', 'Symptom::D011596', 'Symptom::D014103', 'Symptom::D012021', 'Symptom::D013064', 'Symptom::D008607', 'Symptom::D011602', 'Symptom::D012893'], 'additionalSymptoms': ['Symptom::D000334', 'Symptom::D020323', 'Symptom::D015518', 'Symptom::D002375', 'Symptom::D004409', 'Symptom::D007926', 'Symptom::D017109', 'Symptom::D006948', 'Symptom::D011595', 'Symptom::D007806', 'Symptom::D007859', 'Symptom::D009207', 'Symptom::D011596', 'Symptom::D008607', 'Symptom::D011602'], 'anatomies': ['Anatomy::UBERON:0002130', 'Anatomy::UBERON:0001887', 'Anatomy::UBERON:0001891', 'Anatomy::UBERON:0001016', 'Anatomy::UBERON:0001017', 'Anatomy::UBERON:0002410', 'Anatomy::UBERON:0000955'], 'compounds_sideEffectsNum': [('Compound::DB00334', 0), ('Compound::DB00657', 27), ('Compound::DB01100', 125), ('Compound::DB00850', 133), ('Compound::DB00502', 164), ('Compound::DB00575', 186), ('Compound::DB01186', 341), ('Compound::DB00246', 387), ('Compound::DB00734', 666)], 'bestCompoundPharmacologicClasses': []}\n",
        "#visualizeDOC(G, testfallito1).show()"
      ]
    },
    {
      "cell_type": "code",
      "execution_count": null,
      "metadata": {},
      "outputs": [],
      "source": [
        "testfallito2 = {'symptoms': ['Symptom::D011693', 'Symptom::D004614', 'Symptom::D007565', 'Symptom::D045262', 'Symptom::D014770'], 'diseases': ['Disease::DOID:3571', 'Disease::DOID:635'], 'diseasesAdditionalSymptoms': ['Symptom::D019588', 'Symptom::D011697', 'Symptom::D003693', 'Symptom::D015431', 'Symptom::D002819', 'Symptom::D005183', 'Symptom::D012166', 'Symptom::D011696', 'Symptom::D009437', 'Symptom::D011537', 'Symptom::D003371', 'Symptom::D006942', 'Symptom::D005158', 'Symptom::D001766', 'Symptom::D002100', 'Symptom::D000855', 'Symptom::D005335', 'Symptom::D000006', 'Symptom::D003967', 'Symptom::D009325', 'Symptom::D005334', 'Symptom::D015746', 'Symptom::D010146', 'Symptom::D055948', 'Symptom::D005262', 'Symptom::D015160', 'Symptom::D001926', 'Symptom::D014840', 'Symptom::D004438', 'Symptom::D005483', 'Symptom::D001260', 'Symptom::D041781', 'Symptom::D006396', 'Symptom::D001835', 'Symptom::D000860', 'Symptom::D010149', 'Symptom::D014839'],\n",
        "                'relevantSymptoms': ['Symptom::D011693', 'Symptom::D004614', 'Symptom::D007565', 'Symptom::D045262', 'Symptom::D011697', 'Symptom::D005183', 'Symptom::D012166', 'Symptom::D011696', 'Symptom::D006942', 'Symptom::D005335', 'Symptom::D000006', 'Symptom::D003967', 'Symptom::D005334', 'Symptom::D015746', 'Symptom::D010146', 'Symptom::D015160', 'Symptom::D001260', 'Symptom::D041781', 'Symptom::D006396', 'Symptom::D000860'], 'irrelevantSymptoms': ['Symptom::D011693', 'Symptom::D004614', 'Symptom::D007565', 'Symptom::D014770', 'Symptom::D019588', 'Symptom::D003693', 'Symptom::D015431', 'Symptom::D002819', 'Symptom::D011696', 'Symptom::D009437', 'Symptom::D011537', 'Symptom::D003371', 'Symptom::D006942', 'Symptom::D005158', 'Symptom::D001766', 'Symptom::D002100', 'Symptom::D000855', 'Symptom::D005335', 'Symptom::D000006', 'Symptom::D003967', 'Symptom::D009325', 'Symptom::D005334', 'Symptom::D015746', 'Symptom::D055948', 'Symptom::D005262', 'Symptom::D001926', 'Symptom::D014840', 'Symptom::D004438', 'Symptom::D005483', 'Symptom::D001835', 'Symptom::D010149', 'Symptom::D014839'],\n",
        "                'unrecognizedSymptoms': [], 'relevantDiseases': {'Disease::DOID:3571', 'Disease::DOID:635'}, 'irrelevantDiseases': set(), 'unrecognizedDiseases': [],\n",
        "                'possibleDiseases': None,\n",
        "                'diagnosis': 'Disease::DOID:2355',\n",
        "                'diagnosisSymptoms': ['Symptom::D014884', 'Symptom::D045262', 'Symptom::D006456', 'Symptom::D003410', 'Symptom::D016532', 'Symptom::D020567', 'Symptom::D059787', 'Symptom::D018496', 'Symptom::D010167', 'Symptom::D005926', 'Symptom::D054068', 'Symptom::D005316', 'Symptom::D016534', 'Symptom::D038901', 'Symptom::D011694', 'Symptom::D007625', 'Symptom::D006988', 'Symptom::D001049', 'Symptom::D000472', 'Symptom::D015160', 'Symptom::D009846', 'Symptom::D002303', 'Symptom::D011697', 'Symptom::D003968', 'Symptom::D006472', 'Symptom::D004614', 'Symptom::D014823', 'Symptom::D003490', 'Symptom::D008998', 'Symptom::D003117', 'Symptom::D005311', 'Symptom::D006337', 'Symptom::D005183', 'Symptom::D001260', 'Symptom::D001247', 'Symptom::D012166', 'Symptom::D011693', 'Symptom::D011696', 'Symptom::D041781', 'Symptom::D001724', 'Symptom::D009912', 'Symptom::D016553', 'Symptom::D007565', 'Symptom::D011507', 'Symptom::D006396', 'Symptom::D008607', 'Symptom::D006942', 'Symptom::D004415', 'Symptom::D012877', 'Symptom::D002637', 'Symptom::D005132', 'Symptom::D006319', 'Symptom::D005335', 'Symptom::D005221', 'Symptom::D000860', 'Symptom::D010292', 'Symptom::D009461', 'Symptom::D000006', 'Symptom::D003967', 'Symptom::D005334', 'Symptom::D015746', 'Symptom::D010146', 'Symptom::D004487'], 'additionalSymptoms': ['Symptom::D014884', 'Symptom::D006456', 'Symptom::D003410', 'Symptom::D016532', 'Symptom::D020567', 'Symptom::D059787', 'Symptom::D018496', 'Symptom::D010167', 'Symptom::D005926', 'Symptom::D054068', 'Symptom::D005316', 'Symptom::D016534', 'Symptom::D038901', 'Symptom::D011694', 'Symptom::D007625', 'Symptom::D006988', 'Symptom::D001049', 'Symptom::D000472', 'Symptom::D009846', 'Symptom::D002303', 'Symptom::D003968', 'Symptom::D006472', 'Symptom::D014823', 'Symptom::D003490', 'Symptom::D008998', 'Symptom::D003117', 'Symptom::D005311', 'Symptom::D006337', 'Symptom::D001247', 'Symptom::D001724', 'Symptom::D009912', 'Symptom::D016553', 'Symptom::D011507', 'Symptom::D008607', 'Symptom::D004415', 'Symptom::D012877', 'Symptom::D002637', 'Symptom::D005132', 'Symptom::D006319', 'Symptom::D005221', 'Symptom::D010292', 'Symptom::D009461', 'Symptom::D004487'],\n",
        "                'anatomies': ['Anatomy::UBERON:0004288', 'Anatomy::UBERON:0001914', 'Anatomy::UBERON:0001310', 'Anatomy::UBERON:0001627', 'Anatomy::UBERON:0001437', 'Anatomy::UBERON:0000946', 'Anatomy::UBERON:0002390', 'Anatomy::UBERON:0002135', 'Anatomy::UBERON:0002516', 'Anatomy::UBERON:0002134', 'Anatomy::UBERON:0001463', 'Anatomy::UBERON:0002466', 'Anatomy::UBERON:0002137', 'Anatomy::UBERON:0001194', 'Anatomy::UBERON:0001980', 'Anatomy::UBERON:0001969', 'Anatomy::UBERON:0001225', 'Anatomy::UBERON:0001971', 'Anatomy::UBERON:0001231', 'Anatomy::UBERON:0000991', 'Anatomy::UBERON:0000178', 'Anatomy::UBERON:0000989', 'Anatomy::UBERON:0002481', 'Anatomy::UBERON:0001037', 'Anatomy::UBERON:0001988', 'Anatomy::UBERON:0002368', 'Anatomy::UBERON:0002066', 'Anatomy::UBERON:0000922', 'Anatomy::UBERON:0002113', 'Anatomy::UBERON:0001970', 'Anatomy::UBERON:0003129', 'Anatomy::UBERON:0002371', 'Anatomy::UBERON:0001088', 'Anatomy::UBERON:0001007', 'Anatomy::UBERON:0002107', 'Anatomy::UBERON:0002385', 'Anatomy::UBERON:0001744', 'Anatomy::UBERON:0001986'],\n",
        "                'compounds_sideEffectsNum': [], 'bestCompoundPharmacologicClasses': None}\n",
        "#visualizeDOC(G, testfallito2).show()"
      ]
    },
    {
      "cell_type": "code",
      "execution_count": null,
      "metadata": {},
      "outputs": [],
      "source": [
        "testfallito3 = {'symptoms': ['Symptom::D004884', 'Symptom::D006396', 'Symptom::D003967', 'Symptom::D015431', 'Symptom::D055665'],\n",
        "                'diseases': ['Disease::DOID:13499', 'Disease::DOID:13223'],\n",
        "                'diseasesAdditionalSymptoms': ['Symptom::D018589', 'Symptom::D003085', 'Symptom::D000006', 'Symptom::D014839', 'Symptom::D015746', 'Symptom::D019584', 'Symptom::D059411', 'Symptom::D053159', 'Symptom::D014550', 'Symptom::D004412', 'Symptom::D001247', 'Symptom::D017699', 'Symptom::D004415', 'Symptom::D003248', 'Symptom::D002637', 'Symptom::D005335', 'Symptom::D010149', 'Symptom::D005334', 'Symptom::D010146', 'Symptom::D004487'],\n",
        "                'relevantSymptoms': ['Symptom::D004884', 'Symptom::D006396', 'Symptom::D003967', 'Symptom::D015431', 'Symptom::D018589', 'Symptom::D000006', 'Symptom::D014839', 'Symptom::D015746', 'Symptom::D001247', 'Symptom::D004415', 'Symptom::D003248', 'Symptom::D010149', 'Symptom::D005334', 'Symptom::D004487'],\n",
        "                'irrelevantSymptoms': ['Symptom::D006396', 'Symptom::D003967', 'Symptom::D055665', 'Symptom::D003085', 'Symptom::D000006', 'Symptom::D015746', 'Symptom::D019584', 'Symptom::D059411', 'Symptom::D053159', 'Symptom::D014550', 'Symptom::D004412', 'Symptom::D017699', 'Symptom::D002637', 'Symptom::D005335', 'Symptom::D010146'],\n",
        "                'unrecognizedSymptoms': [], 'relevantDiseases': {'Disease::DOID:13499', 'Disease::DOID:13223'}, 'irrelevantDiseases': set(), 'unrecognizedDiseases': [],\n",
        "                'possibleDiseases': None, 'diagnosis': 'Disease::DOID:10534', 'diagnosisSymptoms': ['Symptom::D004884', 'Symptom::D006939', 'Symptom::D056865', 'Symptom::D006606', 'Symptom::D006356', 'Symptom::D011697', 'Symptom::D018589', 'Symptom::D005414', 'Symptom::D004614', 'Symptom::D015431', 'Symptom::D014840', 'Symptom::D001260', 'Symptom::D001247', 'Symptom::D041781', 'Symptom::D011696', 'Symptom::D016553', 'Symptom::D006396', 'Symptom::D004415', 'Symptom::D003248', 'Symptom::D002100', 'Symptom::D001835', 'Symptom::D000855', 'Symptom::D005221', 'Symptom::D010149', 'Symptom::D000006', 'Symptom::D003967', 'Symptom::D009325', 'Symptom::D014839', 'Symptom::D005334', 'Symptom::D015746', 'Symptom::D004487'], 'additionalSymptoms': ['Symptom::D006939', 'Symptom::D056865', 'Symptom::D006606', 'Symptom::D006356', 'Symptom::D011697', 'Symptom::D005414', 'Symptom::D004614', 'Symptom::D014840', 'Symptom::D001260', 'Symptom::D041781', 'Symptom::D011696', 'Symptom::D016553', 'Symptom::D002100', 'Symptom::D001835', 'Symptom::D000855', 'Symptom::D005221', 'Symptom::D009325'], 'anatomies': ['Anatomy::UBERON:0002010', 'Anatomy::UBERON:0002390', 'Anatomy::UBERON:0002466', 'Anatomy::UBERON:0001194', 'Anatomy::UBERON:0000042', 'Anatomy::UBERON:0001516', 'Anatomy::UBERON:0001193', 'Anatomy::UBERON:0002439', 'Anatomy::UBERON:0001971', 'Anatomy::UBERON:0000211', 'Anatomy::UBERON:0001264', 'Anatomy::UBERON:0001759', 'Anatomy::UBERON:0002368', 'Anatomy::UBERON:0002110', 'Anatomy::UBERON:0001640', 'Anatomy::UBERON:0002017', 'Anatomy::UBERON:0001981', 'Anatomy::UBERON:0001638', 'Anatomy::UBERON:0001970', 'Anatomy::UBERON:0001103', 'Anatomy::UBERON:0002371', 'Anatomy::UBERON:0001007', 'Anatomy::UBERON:0002378', 'Anatomy::UBERON:0002107', 'Anatomy::UBERON:0001135', 'Anatomy::UBERON:0001744', 'Anatomy::UBERON:0000483', 'Anatomy::UBERON:0000029'], 'compounds_sideEffectsNum': [('Compound::DB00305', 66), ('Compound::DB00322', 72), ('Compound::DB00544', 169), ('Compound::DB00762', 177), ('Compound::DB01248', 297), ('Compound::DB00563', 319), ('Compound::DB01101', 483), ('Compound::DB00445', 511), ('Compound::DB00997', 511)], 'bestCompoundPharmacologicClasses': ['Pharmacologic Class::N0000000236']}\n",
        "# il secondo sintomo D006396 appare in entrambe le liste di sintomi rilevanti e irrilevanti\n",
        "# caro matteo, il nostro paziente dovrebbe considerare la diarrea un sintomo rilevante...\n",
        "#visualizeDOC(G, testfallito3).show()"
      ]
    },
    {
      "cell_type": "code",
      "execution_count": null,
      "metadata": {},
      "outputs": [],
      "source": [
        "testfallito4 = {'symptoms': ['Symptom::D006970'], 'diseases': ['Disease::DOID:8986'], 'diseasesAdditionalSymptoms': ['Symptom::D009290', 'Symptom::D038921', 'Symptom::D020177', 'Symptom::D002385', 'Symptom::D017593', 'Symptom::D020923', 'Symptom::D020188', 'Symptom::D010845', 'Symptom::D020187', 'Symptom::D020447', 'Symptom::D020189', 'Symptom::D002375', 'Symptom::D020178', 'Symptom::D012892', 'Symptom::D009123', 'Symptom::D006212', 'Symptom::D012891', 'Symptom::D020181', 'Symptom::D007319', 'Symptom::D012893', 'Symptom::D010243'],\n",
        "                'relevantSymptoms': ['Symptom::D006970', 'Symptom::D009290', 'Symptom::D038921', 'Symptom::D020177', 'Symptom::D002385', 'Symptom::D017593', 'Symptom::D020923', 'Symptom::D020188', 'Symptom::D010845', 'Symptom::D020187', 'Symptom::D020447', 'Symptom::D020189', 'Symptom::D002375', 'Symptom::D020178', 'Symptom::D012892', 'Symptom::D009123', 'Symptom::D006212', 'Symptom::D012891', 'Symptom::D020181', 'Symptom::D007319', 'Symptom::D012893', 'Symptom::D010243'],\n",
        "                'irrelevantSymptoms': ['Symptom::D006970'], 'unrecognizedSymptoms': [], 'relevantDiseases': {'Disease::DOID:8986'},\n",
        "                'irrelevantDiseases': set(),\n",
        "                'unrecognizedDiseases': [],\n",
        "                'possibleDiseases': None,\n",
        "                'diagnosis': 'Disease::DOID:8986',\n",
        "                'diagnosisSymptoms': ['Symptom::D002385', 'Symptom::D009290', 'Symptom::D038921', 'Symptom::D020177', 'Symptom::D017593', 'Symptom::D020923', 'Symptom::D020188', 'Symptom::D020447', 'Symptom::D020187', 'Symptom::D010845', 'Symptom::D020189', 'Symptom::D002375', 'Symptom::D012892', 'Symptom::D020178', 'Symptom::D009123', 'Symptom::D006970', 'Symptom::D006212', 'Symptom::D012891', 'Symptom::D020181', 'Symptom::D007319', 'Symptom::D012893', 'Symptom::D010243'],\n",
        "                'additionalSymptoms': [],\n",
        "                'anatomies': ['Anatomy::UBERON:0002005', 'Anatomy::UBERON:0002275', 'Anatomy::UBERON:0002707', 'Anatomy::UBERON:0001890', 'Anatomy::UBERON:0001771', 'Anatomy::UBERON:0002148', 'Anatomy::UBERON:0001896', 'Anatomy::UBERON:0000011', 'Anatomy::UBERON:0001891', 'Anatomy::UBERON:0001577', 'Anatomy::UBERON:0000988', 'Anatomy::UBERON:0002298', 'Anatomy::UBERON:0002410', 'Anatomy::UBERON:0000955'],\n",
        "                'compounds_sideEffectsNum': [('Compound::DB01577', 21), ('Compound::DB01576', 77), ('Compound::DB00182', 77), ('Compound::DB01440', 189), ('Compound::DB00745', 211)], 'bestCompoundPharmacologicClasses': ['Pharmacologic Class::N0000007883', 'Pharmacologic Class::N0000175372', 'Pharmacologic Class::N0000175651', 'Pharmacologic Class::N0000175729']}\n",
        "# 1, 0, 1\n",
        "# il sintomo principale è all'interno della lista dei irrelevant symptoms\n",
        "# visualizeDOC(G, testfallito4).show()"
      ]
    }
  ],
  "metadata": {
    "colab": {
      "include_colab_link": true,
      "provenance": []
    },
    "kernelspec": {
      "display_name": "Python 3",
      "name": "python3"
    },
    "language_info": {
      "codemirror_mode": {
        "name": "ipython",
        "version": 3
      },
      "file_extension": ".py",
      "mimetype": "text/x-python",
      "name": "python",
      "nbconvert_exporter": "python",
      "pygments_lexer": "ipython3",
      "version": "3.11.0"
    }
  },
  "nbformat": 4,
  "nbformat_minor": 0
}
