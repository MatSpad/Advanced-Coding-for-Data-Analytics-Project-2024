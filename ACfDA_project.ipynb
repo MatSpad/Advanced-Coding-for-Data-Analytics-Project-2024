{
  "nbformat": 4,
  "nbformat_minor": 0,
  "metadata": {
    "colab": {
      "provenance": [],
      "authorship_tag": "ABX9TyMOJm8YlKdh8mro8Ikgkn8U",
      "include_colab_link": true
    },
    "kernelspec": {
      "name": "python3",
      "display_name": "Python 3"
    },
    "language_info": {
      "name": "python"
    }
  },
  "cells": [
    {
      "cell_type": "markdown",
      "metadata": {
        "id": "view-in-github",
        "colab_type": "text"
      },
      "source": [
        "<a href=\"https://colab.research.google.com/github/MatSpad/Advanced-Coding-for-Data-Analytics-Project-2024/blob/main/ACfDA_project.ipynb\" target=\"_parent\"><img src=\"https://colab.research.google.com/assets/colab-badge.svg\" alt=\"Open In Colab\"/></a>"
      ]
    },
    {
      "cell_type": "code",
      "execution_count": null,
      "metadata": {
        "id": "L67ZCl1abetm"
      },
      "outputs": [],
      "source": [
        "#Cloning GitHub repository as Colab directory\n",
        "! git clone -l -s https://github.com/MatSpad/Advanced-Coding-for-Data-Analytics-Project-2024.git cloned-repo\n",
        "%cd cloned-repo\n",
        "!ls\n",
        "\n",
        "\n",
        "import gzip\n",
        "with gzip.open('Inputs/hetionet-v1.0-edges.sif.gz','r') as fin:\n",
        "    for line in fin:\n",
        "        print('got line', line)"
      ]
    }
  ]
}